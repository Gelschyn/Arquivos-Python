{
 "cells": [
  {
   "cell_type": "code",
   "execution_count": 6,
   "id": "b26c23a2",
   "metadata": {},
   "outputs": [],
   "source": [
    "from bs4 import BeautifulSoup\n",
    "import requests\n",
    "import re\n",
    "\n",
    "#Conectar com o site e fazer a requisição:\n",
    "link = 'https://coinmarketcap.com/'\n",
    "requisicao = requests.get(link)\n",
    "site = BeautifulSoup(requisicao.text, 'html.parser')"
   ]
  },
  {
   "cell_type": "code",
   "execution_count": 7,
   "id": "1c9a7fdb",
   "metadata": {},
   "outputs": [
    {
     "name": "stdout",
     "output_type": "stream",
     "text": [
      "{'Bitcoin': {'nome': 'Bitcoin', 'codigo': 'BTC', 'preco': '$28,206.77', 'market_cap': '$545,232,173,623', 'volume': '$17,012,267,019', 'var_1h': '-0.22%', 'var_24h': '-0.04%', 'var_7d': '-0.63%'}, 'Ethereum': {'nome': 'Ethereum', 'codigo': 'ETH', 'preco': '$1,908.16', 'market_cap': '$229,877,793,904', 'volume': '$10,397,174,213', 'var_1h': '-0.29%', 'var_24h': '1.80%', 'var_7d': '5.91%'}, 'Tether': {'nome': 'Tether', 'codigo': 'USDT', 'preco': '$0.9999', 'market_cap': '$80,004,394,713', 'volume': '$29,417,978,552', 'var_1h': '0.00%', 'var_24h': '-0.03%', 'var_7d': '-0.01%'}, 'BNB': {'nome': 'BNB', 'codigo': 'BNB', 'preco': '$314.41', 'market_cap': '$49,627,148,252', 'volume': '$595,786,331', 'var_1h': '0.15%', 'var_24h': '0.94%', 'var_7d': '-0.26%'}, 'USD Coin': {'nome': 'USD Coin', 'codigo': 'USDC', 'preco': '$0.9997', 'market_cap': '$32,609,580,402', 'volume': '$4,196,716,868', 'var_1h': '-0.01%', 'var_24h': '-0.03%', 'var_7d': '-0.01%'}, 'XRP': {'nome': 'XRP', 'codigo': 'XRP', 'preco': '$0.505', 'market_cap': '$26,081,638,403', 'volume': '$1,402,759,512', 'var_1h': '-0.58%', 'var_24h': '-0.44%', 'var_7d': '-7.89%'}, 'Cardano': {'nome': 'Cardano', 'codigo': 'ADA', 'preco': '$0.3926', 'market_cap': '$13,642,899,582', 'volume': '$307,843,205', 'var_1h': '-0.21%', 'var_24h': '-0.07%', 'var_7d': '1.95%'}, 'Dogecoin': {'nome': 'Dogecoin', 'codigo': 'DOGE', 'preco': '$0.09296', 'market_cap': '$12,904,981,852', 'volume': '$1,623,154,680', 'var_1h': '-0.43%', 'var_24h': '-5.40%', 'var_7d': '22.43%'}, 'Polygon': {'nome': 'Polygon', 'codigo': 'MATIC', 'preco': '$1.14', 'market_cap': '$10,362,314,377', 'volume': '$331,977,944', 'var_1h': '0.18%', 'var_24h': '-0.53%', 'var_7d': '1.36%'}, 'Solana': {'nome': 'Solana', 'codigo': 'SOL', 'preco': '$20.85', 'market_cap': '$8,071,801,309', 'volume': '$321,591,299', 'var_1h': '-0.29%', 'var_24h': '-0.86%', 'var_7d': '-1.97%'}}\n"
     ]
    }
   ],
   "source": [
    "tbody = site.find('tbody')\n",
    "linhas = tbody.find_all('tr')\n",
    "moedas = {}\n",
    "\n",
    "for linha in linhas:\n",
    "    try:\n",
    "        nome = linha.find(class_='kKpPOn').text\n",
    "        codigo = linha.find(class_='coin-item-symbol').text\n",
    "        valores = linha.find_all(string=re.compile(r'\\$'))\n",
    "        preco = valores[0]\n",
    "        percentuais = linha.find_all(string=re.compile('%'))\n",
    "        \n",
    "        for i, percentual in enumerate(percentuais):\n",
    "            if 'bQjSqS' in percentual.parent['class']:\n",
    "                percentuais[i] = \"-\" + str(percentual)\n",
    "\n",
    "        var_1h = percentuais[0]\n",
    "        var_24h = percentuais[1]\n",
    "        var_7d = percentuais[2]\n",
    "        \n",
    "        market_cap = valores[2]\n",
    "        volume = valores[3]\n",
    "        dic = {'nome': nome, 'codigo': codigo, 'preco': preco, 'market_cap': market_cap, 'volume': volume,\n",
    "              'var_1h': var_1h, 'var_24h': var_24h, 'var_7d': var_7d}\n",
    "        moedas[nome] = dic\n",
    "    except AttributeError:\n",
    "        break\n",
    "\n",
    "print(moedas)"
   ]
  }
 ],
 "metadata": {
  "kernelspec": {
   "display_name": "Python 3 (ipykernel)",
   "language": "python",
   "name": "python3"
  },
  "language_info": {
   "codemirror_mode": {
    "name": "ipython",
    "version": 3
   },
   "file_extension": ".py",
   "mimetype": "text/x-python",
   "name": "python",
   "nbconvert_exporter": "python",
   "pygments_lexer": "ipython3",
   "version": "3.9.13"
  }
 },
 "nbformat": 4,
 "nbformat_minor": 5
}
