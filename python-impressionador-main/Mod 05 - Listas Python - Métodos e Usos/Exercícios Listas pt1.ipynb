{
 "cells": [
  {
   "attachments": {},
   "cell_type": "markdown",
   "metadata": {},
   "source": [
    "# Exercícios\n",
    "\n",
    "## 1. Faturamento do Melhor e do Pior Mês do Ano\n",
    "\n",
    "Qual foi o valor de vendas do melhor mês do Ano?\n",
    "E valor do pior mês do ano?"
   ]
  },
  {
   "cell_type": "code",
   "execution_count": 31,
   "metadata": {},
   "outputs": [
    {
     "name": "stdout",
     "output_type": "stream",
     "text": [
      "O mês de \"nov\" foi o melhor em vendas com o total de R$49,051.00.\n",
      "O mês de \"dez\" foi o pior em vendas com o total de R$9,650.00.\n"
     ]
    }
   ],
   "source": [
    "meses = ['jan', 'fev', 'mar', 'abr', 'mai', 'jun', 'jul', 'ago', 'set', 'out', 'nov', 'dez']\n",
    "vendas_1sem = [25000, 29000, 22200, 17750, 15870, 19900]\n",
    "vendas_2sem = [19850, 20120, 17540, 15555, 49051, 9650]\n",
    "vendas_ano = vendas_1sem + vendas_2sem\n",
    "\n",
    "melhor = max(vendas_ano)\n",
    "indice_melhor = vendas_ano.index(melhor)\n",
    "\n",
    "print(f'O mês de \"{meses[indice_melhor]}\" foi o melhor em vendas com o total de R${melhor:,.2f}.')\n",
    "\n",
    "pior = min(vendas_ano)\n",
    "indice_pior = vendas_ano.index(pior)\n",
    "\n",
    "print(f'O mês de \"{meses[indice_pior]}\" foi o pior em vendas com o total de R${pior:,.2f}.')"
   ]
  },
  {
   "cell_type": "code",
   "execution_count": 25,
   "metadata": {},
   "outputs": [
    {
     "name": "stdout",
     "output_type": "stream",
     "text": [
      "O mês de \"nov\" foi o melhor em vendas com o total de R$49,051.00.\n",
      "O mês de \"dez\" foi o pior em vendas com o total de R$9,650.00.\n"
     ]
    }
   ],
   "source": [
    "meses = ['jan', 'fev', 'mar', 'abr', 'mai', 'jun', 'jul', 'ago', 'set', 'out', 'nov', 'dez']\n",
    "vendas_1sem = [25000, 29000, 22200, 17750, 15870, 19900]\n",
    "vendas_2sem = [19850, 20120, 17540, 15555, 49051, 9650]\n",
    "vendas_ano = vendas_1sem + vendas_2sem\n",
    "\n",
    "# encontra o melhor mês e as vendas utilizando a função max com lambda\n",
    "melhor_mes, melhor_vendas = max(enumerate(vendas_ano), key=lambda x: x[1])\n",
    "print(f'O mês de \"{meses[melhor_mes]}\" foi o melhor em vendas com o total de R${melhor_vendas:,.2f}.')\n",
    "\n",
    "# encontra o pior mês e as vendas utilizando a função min com lambda\n",
    "pior_mes, pior_vendas = min(enumerate(vendas_ano), key=lambda x: x[1])\n",
    "print(f'O mês de \"{meses[pior_mes]}\" foi o pior em vendas com o total de R${pior_vendas:,.2f}.')"
   ]
  },
  {
   "attachments": {},
   "cell_type": "markdown",
   "metadata": {},
   "source": [
    "## 2. Continuação\n",
    "Calcule também o faturamento total do Ano e quanto que o melhor mês representou do faturamento total.\n",
    "\n",
    "Obs: Para o faturamento total, pode usar a função sum(lista) que soma todos os itens de uma lista"
   ]
  },
  {
   "cell_type": "code",
   "execution_count": 26,
   "metadata": {},
   "outputs": [
    {
     "name": "stdout",
     "output_type": "stream",
     "text": [
      "O faturamento total do ano foi de R$261,486.00.\n"
     ]
    }
   ],
   "source": [
    "faturamento_total = sum(vendas_ano)\n",
    "print(f'O faturamento total do ano foi de R${faturamento_total:,.2f}.')"
   ]
  },
  {
   "cell_type": "markdown",
   "metadata": {},
   "source": [
    "## 3. Crie uma lista com o top 3 valores de vendas do ano (sem fazer \"no olho\")\n",
    "\n",
    "Dica: o método remove retira um item da lista."
   ]
  },
  {
   "cell_type": "code",
   "execution_count": 42,
   "metadata": {},
   "outputs": [
    {
     "name": "stdout",
     "output_type": "stream",
     "text": [
      "Os 3 melhores meses de vendas e seus respectivos valores foram: \n",
      "nov: R$49,051.00\n",
      "fev: R$29,000.00\n",
      "jan: R$25,000.00\n"
     ]
    }
   ],
   "source": [
    "meses = ['jan', 'fev', 'mar', 'abr', 'mai', 'jun', 'jul', 'ago', 'set', 'out', 'nov', 'dez']\n",
    "vendas_1sem = [25000, 29000, 22200, 17750, 15870, 19900]\n",
    "vendas_2sem = [19850, 20120, 17540, 15555, 49051, 9650]\n",
    "vendas_ano = vendas_1sem + vendas_2sem\n",
    "\n",
    "top3_vendas = []\n",
    "top_3meses = []\n",
    "\n",
    "for venda in range(3):\n",
    "    max_venda = max(vendas_ano)\n",
    "    top3_vendas.append(max_venda)\n",
    "    max_index = vendas_ano.index(max_venda)\n",
    "    top_3meses.append(meses[max_index])\n",
    "    vendas_ano.pop(max_index)\n",
    "    meses.pop(max_index)\n",
    "\n",
    "print(f'Os 3 melhores meses de vendas e seus respectivos valores foram: ')\n",
    "for i in range (3):\n",
    "    print(f'{top_3meses[i]}: R${(top3_vendas[i]):,.2f}')"
   ]
  }
 ],
 "metadata": {
  "kernelspec": {
   "display_name": "base",
   "language": "python",
   "name": "python3"
  },
  "language_info": {
   "codemirror_mode": {
    "name": "ipython",
    "version": 3
   },
   "file_extension": ".py",
   "mimetype": "text/x-python",
   "name": "python",
   "nbconvert_exporter": "python",
   "pygments_lexer": "ipython3",
   "version": "3.9.13"
  },
  "vscode": {
   "interpreter": {
    "hash": "33c7e5e507e1022926d1b4a15fdb7aaab85e830ea0dd4a3b1c82cb1362c9524a"
   }
  }
 },
 "nbformat": 4,
 "nbformat_minor": 4
}
