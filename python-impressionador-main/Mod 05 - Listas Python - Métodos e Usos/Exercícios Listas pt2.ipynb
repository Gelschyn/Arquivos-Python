{
 "cells": [
  {
   "cell_type": "markdown",
   "metadata": {},
   "source": [
    "# Exercícios\n",
    "\n",
    "## 1. Mudança de Carga Tributária\n",
    "\n",
    "- Reformas e mudanças de cargas tributárias são bem comuns no Brasil.\n",
    "\n",
    "Digamos que você trabalhe em uma empresa de ecommerce\n",
    "\n",
    "No Brasil, o imposto sobre livros é zerado. De um ano para o outro, o governo criou um novo imposto que incide em 10% sobre o valor dos livros e agora você precisa alterar o registro dos preços dos livros da empresa para garantir que esse imposto vai ser repassado para o preço final do produto.\n",
    "\n",
    "Crie um código que recalcule o valor do livro da sua lista de produtos e ajuste na tabela.\n",
    "\n",
    "Além disso, calcule qual vai ser o impacto financeiro da criação desse imposto para a empresa (ou seja, quanto que o imposto vai aumentar de custo para a empresa)\n",
    "\n",
    "Obs: para facilitar, colocamos apenas 1 livro na lista, mas em breve vamos aprender um for que vai adaptar esse cenário para qualquer quantidade de livros na sua lista.\n",
    "\n",
    "Obs2: Seu código deve funcionar mesmo que não haja livros na lista de produtos da empresa"
   ]
  },
  {
   "cell_type": "code",
   "execution_count": 1,
   "metadata": {},
   "outputs": [
    {
     "name": "stdout",
     "output_type": "stream",
     "text": [
      "Pagaremos R$200,000.00 a mais de impostos após o reajuste\n",
      "['computador', 'livro', 'tablet', 'celular', 'tv', 'ar condicionado', 'alexa', 'máquina de café', 'kindle']\n",
      "[[10000, 2500], [50000, 44.0], [7000, 1200], [20000, 1500], [5800, 1300], [7200, 2500], [200, 800], [3300, 700], [1900, 400]]\n"
     ]
    }
   ],
   "source": [
    "produtos = ['computador', 'livro', 'tablet', 'celular', 'tv', 'ar condicionado', 'alexa', 'máquina de café', 'kindle']\n",
    "\n",
    "#cada item da lista dos produtos corresponde a quantidade de vendas no mês e preço, nessa ordem\n",
    "produtos_ecommerce = [\n",
    "    [10000, 2500],\n",
    "    [50000, 40],\n",
    "    [7000, 1200],\n",
    "    [20000, 1500],\n",
    "    [5800, 1300],\n",
    "    [7200, 2500],\n",
    "    [200, 800],\n",
    "    [3300, 700],\n",
    "    [1900, 400]\n",
    "]\n",
    "\n",
    "if 'livro' in produtos:\n",
    "    index_livro = produtos.index('livro')\n",
    "    custo_livros_antigo = produtos_ecommerce[index_livro][0] * produtos_ecommerce[index_livro][1]\n",
    "    produtos_ecommerce[index_livro][1] *= 1.1\n",
    "    custo_livros_novo = custo_livros_antigo * 1.1\n",
    "    aumento_custo = custo_livros_novo - custo_livros_antigo\n",
    "    print(f'Pagaremos R${aumento_custo:,.2f} a mais de impostos após o reajuste.')\n",
    "else:\n",
    "    print('Não há livros em nosso e-commerce.')\n",
    "\n",
    "print(produtos)\n",
    "print(produtos_ecommerce)"
   ]
  },
  {
   "cell_type": "code",
   "execution_count": 5,
   "metadata": {},
   "outputs": [
    {
     "name": "stdout",
     "output_type": "stream",
     "text": [
      "O imposto sobre livros aumentou em R$210,000.00.\n",
      "['computador', 'livro', 'tablet', 'celular', 'tv', 'livro', 'ar condicionado', 'alexa', 'máquina de café', 'kindle']\n",
      "[[10000, 2500], [50000, 44.0], [7000, 1200], [20000, 1500], [5800, 1300], [10000, 11.0], [7200, 2500], [200, 800], [3300, 700], [1900, 400]]\n"
     ]
    }
   ],
   "source": [
    "#Considerando que poderia ter mais de um livro na lista:\n",
    "produtos = ['computador', 'livro', 'tablet', 'celular', 'tv', 'livro', 'ar condicionado', 'alexa', 'máquina de café', 'kindle']\n",
    "\n",
    "produtos_ecommerce = [\n",
    "    [10000, 2500],\n",
    "    [50000, 40],\n",
    "    [7000, 1200],\n",
    "    [20000, 1500],\n",
    "    [5800, 1300],\n",
    "    [10000, 10],\n",
    "    [7200, 2500],\n",
    "    [200, 800],\n",
    "    [3300, 700],\n",
    "    [1900, 400]\n",
    "]\n",
    "\n",
    "imposto_livros = 0.1\n",
    "aumento_custo = []\n",
    "\n",
    "for i, produto in enumerate(produtos):\n",
    "    if produto == 'livro':\n",
    "        custo_antigo = produtos_ecommerce[i][0] * produtos_ecommerce[i][1]\n",
    "        produtos_ecommerce[i][1] *= (1 + imposto_livros)\n",
    "        custo_novo = produtos_ecommerce[i][0] * produtos_ecommerce[i][1]\n",
    "        aumento_custo.append(custo_novo - custo_antigo)\n",
    "\n",
    "print(f'O imposto sobre livros aumentou em R${sum(aumento_custo):,.2f}.')\n",
    "        \n",
    "print(produtos)\n",
    "print(produtos_ecommerce)"
   ]
  }
 ],
 "metadata": {
  "kernelspec": {
   "display_name": "base",
   "language": "python",
   "name": "python3"
  },
  "language_info": {
   "codemirror_mode": {
    "name": "ipython",
    "version": 3
   },
   "file_extension": ".py",
   "mimetype": "text/x-python",
   "name": "python",
   "nbconvert_exporter": "python",
   "pygments_lexer": "ipython3",
   "version": "3.9.13"
  },
  "vscode": {
   "interpreter": {
    "hash": "33c7e5e507e1022926d1b4a15fdb7aaab85e830ea0dd4a3b1c82cb1362c9524a"
   }
  }
 },
 "nbformat": 4,
 "nbformat_minor": 4
}
