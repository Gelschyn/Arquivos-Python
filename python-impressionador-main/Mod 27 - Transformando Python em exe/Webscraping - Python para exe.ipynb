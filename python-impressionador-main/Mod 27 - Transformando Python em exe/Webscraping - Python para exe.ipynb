{
 "cells": [
  {
   "cell_type": "code",
   "execution_count": 1,
   "metadata": {},
   "outputs": [
    {
     "data": {
      "text/html": [
       "<div>\n",
       "<style scoped>\n",
       "    .dataframe tbody tr th:only-of-type {\n",
       "        vertical-align: middle;\n",
       "    }\n",
       "\n",
       "    .dataframe tbody tr th {\n",
       "        vertical-align: top;\n",
       "    }\n",
       "\n",
       "    .dataframe thead th {\n",
       "        text-align: right;\n",
       "    }\n",
       "</style>\n",
       "<table border=\"1\" class=\"dataframe\">\n",
       "  <thead>\n",
       "    <tr style=\"text-align: right;\">\n",
       "      <th></th>\n",
       "      <th>Canais</th>\n",
       "    </tr>\n",
       "  </thead>\n",
       "  <tbody>\n",
       "    <tr>\n",
       "      <th>0</th>\n",
       "      <td>https://www.youtube.com/channel/UCw0leRmeaX7R_...</td>\n",
       "    </tr>\n",
       "    <tr>\n",
       "      <th>1</th>\n",
       "      <td>https://www.youtube.com/user/ninjadoexcel</td>\n",
       "    </tr>\n",
       "  </tbody>\n",
       "</table>\n",
       "</div>"
      ],
      "text/plain": [
       "                                              Canais\n",
       "0  https://www.youtube.com/channel/UCw0leRmeaX7R_...\n",
       "1          https://www.youtube.com/user/ninjadoexcel"
      ]
     },
     "metadata": {},
     "output_type": "display_data"
    },
    {
     "name": "stdout",
     "output_type": "stream",
     "text": [
      "Pegamos 2420 vídeos do Canal https://www.youtube.com/channel/UCw0leRmeaX7R_9BDd3TvCzg\n",
      "Pegamos 1220 vídeos do Canal https://www.youtube.com/user/ninjadoexcel\n"
     ]
    }
   ],
   "source": [
    "#Importar as bibliotecas:\n",
    "import time, urllib\n",
    "from IPython.display import display\n",
    "from selenium import webdriver \n",
    "import pandas as pd \n",
    "import numpy as np\n",
    "from selenium.webdriver.common.by import By \n",
    "from selenium.webdriver.support.ui import WebDriverWait \n",
    "from selenium.webdriver.support import expected_conditions as EC\n",
    "from selenium.webdriver.common.keys import Keys\n",
    "from selenium.common.exceptions import StaleElementReferenceException\n",
    "from tkinter import *\n",
    "import tkinter.filedialog\n",
    "from tkinter import messagebox\n",
    "\n",
    "#Ler CSV:\n",
    "root= Tk()\n",
    "arquivo = tkinter.filedialog.askopenfilename(title = 'Selecione o Arquivo csv com Canais e Keywords')\n",
    "root.destroy()\n",
    "\n",
    "buscas_df = pd.read_csv(arquivo, encoding = 'utf-8', sep=';')\n",
    "display(buscas_df.head())\n",
    "\n",
    "buscas_canais = buscas_df['Canais'].unique()\n",
    "\n",
    "#Ler videos de todas as buscas:\n",
    "driver = webdriver.Chrome() \n",
    "\n",
    "#Pegando os itens dos canais:\n",
    "hrefs = []\n",
    "for canal in buscas_canais:\n",
    "    if canal is np.nan:\n",
    "        break\n",
    "    hrefs.append(canal)\n",
    "    driver.get(canal)\n",
    "    while len (driver.find_elements(By.CLASS_NAME, 'tab-content')) < 1:\n",
    "        time.sleep(1)\n",
    "    time.sleep(2)\n",
    "    tab = driver.find_elements(By.CLASS_NAME, 'tab-content')[1].click()\n",
    "    time.sleep(5)\n",
    "    altura = 0\n",
    "    nova_altura = 1\n",
    "    while nova_altura > altura:\n",
    "            altura = driver.execute_script('return document.documentElement.scrollHeight')\n",
    "            driver.execute_script('window.scrollTo(0, ' + str(altura) + ');')\n",
    "            time.sleep(3)\n",
    "            nova_altura = driver.execute_script('return document.documentElement.scrollHeight')\n",
    "    videos = driver.find_elements(By.ID, 'thumbnail')\n",
    "    try:\n",
    "        for video in videos:\n",
    "            meu_link = video.get_attribute('href')\n",
    "            if meu_link:\n",
    "                if not 'googleadservices' in meu_link: \n",
    "                    hrefs.append(meu_link)\n",
    "    except StaleElementReferenceException:\n",
    "        time.sleep(2)\n",
    "        videos = driver.find_elements(By.ID, 'thumbnail')\n",
    "        for video in videos:\n",
    "            meu_link = video.get_attribute('href')\n",
    "            if meu_link:\n",
    "                if not 'googleadservices' in meu_link: \n",
    "                    hrefs.append(meu_link)\n",
    "    print(f'Pegamos {len(videos)} vídeos do Canal {canal}')\n",
    "\n",
    "driver.quit()\n",
    "\n",
    "#Salvando o resultado em um csv:\n",
    "hrefs_df = pd.DataFrame(hrefs)\n",
    "hrefs_df.to_csv(r'Canais Prontos.csv', sep=',', encoding='utf-8')\n",
    "root= Tk()\n",
    "messagebox.showinfo('Programa Finalizado com Sucesso', 'Seu arquivo csv foi gerado com sucesso na pasta do Programa')\n",
    "root.destroy()"
   ]
  }
 ],
 "metadata": {
  "colab": {
   "authorship_tag": "ABX9TyNdHDDm3VOhRC+ZQ9GcaSka",
   "name": "Python para exe 04.ipynb",
   "provenance": []
  },
  "kernelspec": {
   "display_name": "Python 3",
   "language": "python",
   "name": "python3"
  },
  "language_info": {
   "codemirror_mode": {
    "name": "ipython",
    "version": 3
   },
   "file_extension": ".py",
   "mimetype": "text/x-python",
   "name": "python",
   "nbconvert_exporter": "python",
   "pygments_lexer": "ipython3",
   "version": "3.9.13"
  }
 },
 "nbformat": 4,
 "nbformat_minor": 1
}
