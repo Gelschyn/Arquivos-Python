{
 "cells": [
  {
   "cell_type": "code",
   "execution_count": 2,
   "metadata": {},
   "outputs": [],
   "source": [
    "import mysql.connector\n",
    "import json\n",
    "\n",
    "with open(r\"C:\\Users\\diego\\OneDrive\\Área de Trabalho\\Programação\\Hashtag Programação\\Material Aulas Python Impressionador\\dados.json\", \"r\") as arquivo:\n",
    "    dados = json.load(arquivo)\n",
    "\n",
    "usuario = dados[\"usuario\"]\n",
    "senha = dados[\"senha\"]\n",
    "\n",
    "\n",
    "conexao = mysql.connector.connect(\n",
    "    host='localhost',\n",
    "    user=usuario,\n",
    "    password=senha,\n",
    "    database='python_crud_bd',\n",
    ")\n",
    "cursor = conexao.cursor()"
   ]
  },
  {
   "attachments": {},
   "cell_type": "markdown",
   "metadata": {},
   "source": [
    "### Create:"
   ]
  },
  {
   "cell_type": "code",
   "execution_count": 3,
   "metadata": {},
   "outputs": [],
   "source": [
    "nome_produto = \"água\"\n",
    "valor_produto = 2\n",
    "comando = f'INSERT INTO vendas (nome_produto, valor_produto) VALUES (\"{nome_produto}\", {valor_produto})'\n",
    "cursor.execute(comando)\n",
    "conexao.commit()"
   ]
  },
  {
   "attachments": {},
   "cell_type": "markdown",
   "metadata": {},
   "source": [
    "### Read:"
   ]
  },
  {
   "cell_type": "code",
   "execution_count": 4,
   "metadata": {},
   "outputs": [
    {
     "name": "stdout",
     "output_type": "stream",
     "text": [
      "[(1, 'chocolate', 5.0), (2, 'água', 2.0)]\n"
     ]
    }
   ],
   "source": [
    "comando = f'SELECT * FROM vendas'\n",
    "cursor.execute(comando)\n",
    "resultado = cursor.fetchall()\n",
    "print(resultado)"
   ]
  },
  {
   "attachments": {},
   "cell_type": "markdown",
   "metadata": {},
   "source": [
    "### Update:"
   ]
  },
  {
   "cell_type": "code",
   "execution_count": 6,
   "metadata": {},
   "outputs": [],
   "source": [
    "nome_produto = \"chocolate\"\n",
    "valor_produto = 4\n",
    "comando = f'UPDATE vendas SET valor_produto = {valor_produto} WHERE nome_produto = \"{nome_produto}\"'\n",
    "cursor.execute(comando)\n",
    "conexao.commit()"
   ]
  },
  {
   "cell_type": "markdown",
   "metadata": {},
   "source": [
    "### Delete:"
   ]
  },
  {
   "cell_type": "code",
   "execution_count": 8,
   "metadata": {},
   "outputs": [],
   "source": [
    "nome_produto = \"água\"\n",
    "comando = f'DELETE FROM vendas WHERE nome_produto = \"{nome_produto}\"'\n",
    "cursor.execute(comando)\n",
    "conexao.commit()"
   ]
  },
  {
   "cell_type": "code",
   "execution_count": 3,
   "metadata": {},
   "outputs": [],
   "source": [
    "#Fechando a conexão:\n",
    "\n",
    "cursor.close()\n",
    "conexao.close()"
   ]
  }
 ],
 "metadata": {
  "kernelspec": {
   "display_name": "base",
   "language": "python",
   "name": "python3"
  },
  "language_info": {
   "codemirror_mode": {
    "name": "ipython",
    "version": 3
   },
   "file_extension": ".py",
   "mimetype": "text/x-python",
   "name": "python",
   "nbconvert_exporter": "python",
   "pygments_lexer": "ipython3",
   "version": "3.9.13"
  },
  "orig_nbformat": 4
 },
 "nbformat": 4,
 "nbformat_minor": 2
}
