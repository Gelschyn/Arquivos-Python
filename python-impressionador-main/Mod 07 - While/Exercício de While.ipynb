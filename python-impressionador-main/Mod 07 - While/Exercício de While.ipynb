{
 "cells": [
  {
   "cell_type": "markdown",
   "metadata": {},
   "source": [
    "# Exercícios\n",
    "\n",
    "## 1. Input até o usuário parar\n",
    "\n",
    "Vamos criar um sistema de vendas. Nosso programa deve registrar os produtos e as quantidades (2 inputs) e adicionar em uma lista.\n",
    "\n",
    "O programa deve continuar rodando até o input ser vazio, ou seja, o usuário apertar enter sem digitar nenhum produto ou quantidade.\n",
    "\n",
    "Ao final do programa, ele deve printar todos os produtos e quantidades vendidas.\n",
    "\n",
    "Obs: Caso queira, para o print ficar mais visual, pode usar o join para cada item ser printado em uma linha.\n",
    "Sugestão para sua lista de produtos vendidos:"
   ]
  },
  {
   "cell_type": "raw",
   "metadata": {},
   "source": [
    "vendas = [\n",
    "    ['maçã', 5],\n",
    "    ['banana', 15],\n",
    "    ['azeite', 1],\n",
    "    ['vinho', 3],\n",
    "]"
   ]
  },
  {
   "cell_type": "code",
   "execution_count": 7,
   "metadata": {},
   "outputs": [
    {
     "name": "stdout",
     "output_type": "stream",
     "text": [
      "Quantidade inválida. Insira apenas números inteiros.\n",
      "5 unidade(s) de Maçã registrada(s).\n",
      "15 unidade(s) de Banana registrada(s).\n",
      "1 unidade(s) de Azeite registrada(s).\n",
      "3 unidade(s) de Vinho registrada(s).\n",
      "\n",
      "Registro Finalizado. As vendas cadastradas foram:\n",
      "\n",
      "  Produtos   -   Unidades  \n",
      "    Maçã     -      5      \n",
      "   Banana    -      15     \n",
      "   Azeite    -      1      \n",
      "   Vinho     -      3      \n"
     ]
    }
   ],
   "source": [
    "vendas = []\n",
    "\n",
    "while True:\n",
    "    produto = input('Registre um produto. Para cancelar o registro, deixe a caixa vazia e pressione Enter: ').title()\n",
    "    while produto:\n",
    "        qtd = input(f'Insira a quantidade comprada de {produto} (Digite apenas números inteiros): ')\n",
    "        if qtd.isnumeric():\n",
    "            qtd = int(qtd)\n",
    "            print(f'{qtd} unidade(s) de {produto} registrada(s).')\n",
    "            vendas.append([produto, qtd])\n",
    "            break\n",
    "        else:\n",
    "            print('Quantidade inválida. Insira apenas números inteiros.')\n",
    "            continue\n",
    "    if not produto:\n",
    "        break   \n",
    "        \n",
    "\n",
    "print('\\nRegistro Finalizado. As vendas cadastradas foram:\\n')\n",
    "print(f'{\"Produtos\":^12} - {\"Unidades\":^12}')\n",
    "for i in range(len(vendas)):\n",
    "    print(f'{vendas[i][0]:^12} - {vendas[i][1]:^12}')"
   ]
  }
 ],
 "metadata": {
  "kernelspec": {
   "display_name": "base",
   "language": "python",
   "name": "python3"
  },
  "language_info": {
   "codemirror_mode": {
    "name": "ipython",
    "version": 3
   },
   "file_extension": ".py",
   "mimetype": "text/x-python",
   "name": "python",
   "nbconvert_exporter": "python",
   "pygments_lexer": "ipython3",
   "version": "3.9.13"
  },
  "vscode": {
   "interpreter": {
    "hash": "33c7e5e507e1022926d1b4a15fdb7aaab85e830ea0dd4a3b1c82cb1362c9524a"
   }
  }
 },
 "nbformat": 4,
 "nbformat_minor": 4
}
