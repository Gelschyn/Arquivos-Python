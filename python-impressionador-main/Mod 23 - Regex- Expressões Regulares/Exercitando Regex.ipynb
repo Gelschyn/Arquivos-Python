{
 "cells": [
  {
   "attachments": {},
   "cell_type": "markdown",
   "metadata": {},
   "source": [
    "#### Extrair todos os links de um texto:"
   ]
  },
  {
   "cell_type": "code",
   "execution_count": 14,
   "metadata": {},
   "outputs": [],
   "source": [
    "texto = '''\n",
    "Olá\n",
    "\n",
    "Segue o relatório de SEO para os seguintes sites:\n",
    "https://portalhashtag.com http://hashtagtreinamentos.com\n",
    "https://www.wikipedia.org/\n",
    "www.bcb.gov.br/\n",
    "\n",
    "Qualquer dúvida estamos à disposição'''"
   ]
  },
  {
   "cell_type": "code",
   "execution_count": 15,
   "metadata": {},
   "outputs": [
    {
     "name": "stdout",
     "output_type": "stream",
     "text": [
      "https://portalhashtag.com\n",
      "http://hashtagtreinamentos.com\n",
      "https://www.wikipedia.org\n",
      "www.bcb.gov.br\n"
     ]
    }
   ],
   "source": [
    "import re\n",
    "\n",
    "padrao = re.compile(r'(https?://)?(www\\.)?\\w+\\.(com\\.br|com|org|gov\\.br)')\n",
    "links = re.finditer(padrao, texto)\n",
    "for link in links:\n",
    "    print(link.group(0))"
   ]
  }
 ],
 "metadata": {
  "kernelspec": {
   "display_name": "base",
   "language": "python",
   "name": "python3"
  },
  "language_info": {
   "name": "python",
   "version": "3.9.13"
  },
  "orig_nbformat": 4
 },
 "nbformat": 4,
 "nbformat_minor": 2
}
