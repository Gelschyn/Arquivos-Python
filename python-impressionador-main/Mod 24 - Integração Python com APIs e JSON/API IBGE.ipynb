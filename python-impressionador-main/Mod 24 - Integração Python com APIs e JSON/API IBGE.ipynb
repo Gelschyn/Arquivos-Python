{
 "cells": [
  {
   "cell_type": "code",
   "execution_count": 4,
   "id": "17ec9d9f",
   "metadata": {},
   "outputs": [],
   "source": [
    "import requests\n",
    "\n",
    "link = 'https://servicodados.ibge.gov.br/api/v3/agregados/4112/periodos/2006/variaveis/2586?localidades=N1[all]'\n",
    "\n",
    "requisicao = requests.get(link)\n",
    "informacoes = requisicao.json()\n",
    "\n",
    "item_busca = informacoes[0]['variavel']\n",
    "resultados = informacoes[0]['resultados'][0]['series']"
   ]
  },
  {
   "cell_type": "code",
   "execution_count": 5,
   "id": "670b08a3",
   "metadata": {},
   "outputs": [
    {
     "name": "stdout",
     "output_type": "stream",
     "text": [
      "Número de estabelecimentos agropecuários com suínos\n",
      "[{'localidade': {'id': '1', 'nivel': {'id': 'N1', 'nome': 'Brasil'}, 'nome': 'Brasil'}, 'serie': {'2006': '1496422'}}]\n"
     ]
    }
   ],
   "source": [
    "print(item_busca)\n",
    "print(resultados)"
   ]
  }
 ],
 "metadata": {
  "kernelspec": {
   "display_name": "Python 3 (ipykernel)",
   "language": "python",
   "name": "python3"
  },
  "language_info": {
   "codemirror_mode": {
    "name": "ipython",
    "version": 3
   },
   "file_extension": ".py",
   "mimetype": "text/x-python",
   "name": "python",
   "nbconvert_exporter": "python",
   "pygments_lexer": "ipython3",
   "version": "3.9.13"
  }
 },
 "nbformat": 4,
 "nbformat_minor": 5
}
