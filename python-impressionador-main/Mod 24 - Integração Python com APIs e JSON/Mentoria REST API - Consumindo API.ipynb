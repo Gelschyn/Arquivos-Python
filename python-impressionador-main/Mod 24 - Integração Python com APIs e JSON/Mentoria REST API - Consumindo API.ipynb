{
 "cells": [
  {
   "cell_type": "markdown",
   "id": "0baaa13b",
   "metadata": {},
   "source": [
    "### Consumir dados de uma API"
   ]
  },
  {
   "cell_type": "code",
   "execution_count": 1,
   "id": "dbdd6973",
   "metadata": {},
   "outputs": [],
   "source": [
    "import requests\n",
    "\n",
    "link = 'https://economia.awesomeapi.com.br/last/USD-BRL,EUR-BRL,BTC-BRL'\n",
    "\n",
    "requisicao = requests.get(link)"
   ]
  },
  {
   "cell_type": "code",
   "execution_count": 2,
   "id": "f60e4ba9",
   "metadata": {},
   "outputs": [
    {
     "name": "stdout",
     "output_type": "stream",
     "text": [
      "{'USDBRL': {'code': 'USD', 'codein': 'BRL', 'name': 'Dólar Americano/Real Brasileiro', 'high': '5.0932', 'low': '5.0388', 'varBid': '0.0158', 'pctChange': '0.31', 'bid': '5.0702', 'ask': '5.0712', 'timestamp': '1681159959', 'create_date': '2023-04-10 17:52:39'}, 'EURBRL': {'code': 'EUR', 'codein': 'BRL', 'name': 'Euro/Real Brasileiro', 'high': '5.528', 'low': '5.4747', 'varBid': '-0.0005', 'pctChange': '-0.01', 'bid': '5.5062', 'ask': '5.5094', 'timestamp': '1681159963', 'create_date': '2023-04-10 17:52:43'}, 'BTCBRL': {'code': 'BTC', 'codein': 'BRL', 'name': 'Bitcoin/Real Brasileiro', 'high': '149000', 'low': '142902', 'varBid': '5290', 'pctChange': '3.7', 'bid': '148044', 'ask': '148072', 'timestamp': '1681159963', 'create_date': '2023-04-10 17:52:43'}}\n"
     ]
    }
   ],
   "source": [
    "print(requisicao.json())"
   ]
  },
  {
   "cell_type": "code",
   "execution_count": 4,
   "id": "5c4de0c2",
   "metadata": {},
   "outputs": [
    {
     "name": "stdout",
     "output_type": "stream",
     "text": [
      "Cotação Atualizada - 10/04/2023 - 17:53\n",
      "Dólar: R$5.0702\n",
      "Euro: R$5.5062\n",
      "BTC: R$148044\n"
     ]
    }
   ],
   "source": [
    "from datetime import datetime\n",
    "\n",
    "requisicao_dic = requisicao.json()\n",
    "cotacao_dolar = requisicao_dic['USDBRL']['bid']\n",
    "cotacao_euro = requisicao_dic['EURBRL']['bid']\n",
    "cotacao_btc = requisicao_dic['BTCBRL']['bid']\n",
    "\n",
    "print(f'Cotação Atualizada - {datetime.now().strftime(\"%d/%m/%Y - %H:%M\")}\\nDólar: R${cotacao_dolar}\\nEuro: R${cotacao_euro}\\nBTC: R${cotacao_btc}')"
   ]
  }
 ],
 "metadata": {
  "kernelspec": {
   "display_name": "Python 3",
   "language": "python",
   "name": "python3"
  },
  "language_info": {
   "codemirror_mode": {
    "name": "ipython",
    "version": 3
   },
   "file_extension": ".py",
   "mimetype": "text/x-python",
   "name": "python",
   "nbconvert_exporter": "python",
   "pygments_lexer": "ipython3",
   "version": "3.9.13"
  }
 },
 "nbformat": 4,
 "nbformat_minor": 5
}
