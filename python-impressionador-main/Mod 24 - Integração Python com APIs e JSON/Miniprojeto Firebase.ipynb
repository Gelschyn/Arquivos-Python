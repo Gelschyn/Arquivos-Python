{
 "cells": [
  {
   "cell_type": "code",
   "execution_count": 1,
   "metadata": {},
   "outputs": [],
   "source": [
    "# Interação com o Database (REST API)\n",
    "import requests\n",
    "import json\n",
    "\n",
    "with open(r'C:\\Users\\diego\\OneDrive\\Área de Trabalho\\Programação\\Hashtag Programação\\Material Aulas Python Impressionador\\dados_firebase.json', 'r') as arquivo:\n",
    "    dados_firebase = json.load(arquivo)\n",
    "link = dados_firebase['link']"
   ]
  },
  {
   "cell_type": "code",
   "execution_count": 2,
   "metadata": {},
   "outputs": [
    {
     "name": "stdout",
     "output_type": "stream",
     "text": [
      "<Response [200]>\n",
      "{\"name\":\"-NSlJDoJTuAo82rMRdzd\"}\n"
     ]
    }
   ],
   "source": [
    "# Criar uma venda (POST)\n",
    "dados = {'Cliente': 'Pedro', 'Preço': 150, 'Produto': 'Teclado'}\n",
    "requisicao = requests.post(f'{link}/Vendas/.json', data=json.dumps(dados))\n",
    "print(requisicao)\n",
    "print(requisicao.text)"
   ]
  },
  {
   "cell_type": "code",
   "execution_count": 3,
   "metadata": {},
   "outputs": [
    {
     "name": "stdout",
     "output_type": "stream",
     "text": [
      "<Response [200]>\n",
      "{\"name\":\"-NSlJcs4sFK8swceTJAF\"}\n"
     ]
    }
   ],
   "source": [
    "# Criar um novo produto (POST)\n",
    "dados = {'Nome': 'Teclado', 'Preço': 150, 'Quantidade': 80}\n",
    "requisicao = requests.post(f'{link}/Produtos/.json', data=json.dumps(dados))\n",
    "print(requisicao)\n",
    "print(requisicao.text)"
   ]
  },
  {
   "cell_type": "code",
   "execution_count": 4,
   "metadata": {},
   "outputs": [
    {
     "name": "stdout",
     "output_type": "stream",
     "text": [
      "<Response [200]>\n",
      "{\"Cliente\":\"Maria\"}\n"
     ]
    }
   ],
   "source": [
    "# Editar a venda (PATCH)\n",
    "dados = {'Cliente': 'Maria'}\n",
    "requisicao = requests.patch(f'{link}/Vendas/-NSlJDoJTuAo82rMRdzd/.json', data=json.dumps(dados))\n",
    "print(requisicao)\n",
    "print(requisicao.text)"
   ]
  },
  {
   "cell_type": "code",
   "execution_count": 6,
   "metadata": {},
   "outputs": [
    {
     "name": "stdout",
     "output_type": "stream",
     "text": [
      "<Response [200]>\n",
      "-NSlJDoJTuAo82rMRdzd\n"
     ]
    }
   ],
   "source": [
    "# Pegar uma venda específico ou todas as vendas (GET)\n",
    "requisicao = requests.get(f'{link}/Vendas/.json')\n",
    "print(requisicao)\n",
    "dic_requisicao = requisicao.json()\n",
    "id_maria = None\n",
    "for id_venda in dic_requisicao:\n",
    "    cliente = dic_requisicao[id_venda]['Cliente']\n",
    "    if cliente == \"Maria\":\n",
    "        print(id_venda)\n",
    "        id_maria = id_venda"
   ]
  },
  {
   "cell_type": "code",
   "execution_count": 7,
   "metadata": {},
   "outputs": [
    {
     "name": "stdout",
     "output_type": "stream",
     "text": [
      "<Response [200]>\n",
      "null\n"
     ]
    }
   ],
   "source": [
    "# Deletar uma venda (DELETE)\n",
    "requisicao = requests.delete(f'{link}/Vendas/{id_maria}/.json')\n",
    "print(requisicao)\n",
    "print(requisicao.text)"
   ]
  }
 ],
 "metadata": {
  "kernelspec": {
   "display_name": "base",
   "language": "python",
   "name": "python3"
  },
  "language_info": {
   "codemirror_mode": {
    "name": "ipython",
    "version": 3
   },
   "file_extension": ".py",
   "mimetype": "text/x-python",
   "name": "python",
   "nbconvert_exporter": "python",
   "pygments_lexer": "ipython3",
   "version": "3.9.13"
  },
  "orig_nbformat": 4
 },
 "nbformat": 4,
 "nbformat_minor": 2
}
