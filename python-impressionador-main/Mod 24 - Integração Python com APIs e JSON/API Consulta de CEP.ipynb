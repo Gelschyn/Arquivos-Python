{
 "cells": [
  {
   "cell_type": "markdown",
   "id": "84f1d631",
   "metadata": {},
   "source": [
    "#### Consulta de informações de um CEP"
   ]
  },
  {
   "cell_type": "code",
   "execution_count": 7,
   "id": "fe813e51",
   "metadata": {},
   "outputs": [
    {
     "name": "stdout",
     "output_type": "stream",
     "text": [
      "<Response [200]>\n",
      "{'cep': '80240-020', 'logradouro': 'Avenida Silva Jardim', 'complemento': 'de 1591/1592 a 3668/3669', 'bairro': 'Água Verde', 'localidade': 'Curitiba', 'uf': 'PR', 'ibge': '4106902', 'gia': '', 'ddd': '41', 'siafi': '7535'}\n"
     ]
    }
   ],
   "source": [
    "import requests\n",
    "\n",
    "while True:\n",
    "    cep = input('Informe o CEP a ser consultado: ')\n",
    "    cep = cep.replace('-', '').replace('.', '').replace(' ', '')\n",
    "\n",
    "    if len(cep) == 8:\n",
    "        link = f'https://viacep.com.br/ws/{cep}/json/'\n",
    "\n",
    "        requisicao = requests.get(link)\n",
    "\n",
    "        print(requisicao)\n",
    "\n",
    "        dic_requisicao = requisicao.json()\n",
    "\n",
    "        uf = dic_requisicao['uf']\n",
    "        cidade = dic_requisicao['localidade']\n",
    "        bairro = dic_requisicao['bairro']\n",
    "        print(dic_requisicao)\n",
    "        break\n",
    "    \n",
    "    else:\n",
    "        print('CEP Inválido - Digite Novamente')\n",
    "        continue"
   ]
  },
  {
   "cell_type": "markdown",
   "id": "0abd6940",
   "metadata": {},
   "source": [
    "#### Busca de CEP a partir de endereço"
   ]
  },
  {
   "cell_type": "code",
   "execution_count": 5,
   "id": "901212ef",
   "metadata": {},
   "outputs": [
    {
     "name": "stdout",
     "output_type": "stream",
     "text": [
      "<Response [200]>\n",
      "[{'cep': '80240-020', 'logradouro': 'Avenida Silva Jardim', 'complemento': 'de 1591/1592 a 3668/3669', 'bairro': 'Água Verde', 'localidade': 'Curitiba', 'uf': 'PR', 'ibge': '4106902', 'gia': '', 'ddd': '41', 'siafi': '7535'}, {'cep': '80240-021', 'logradouro': 'Avenida Silva Jardim', 'complemento': 'de 3670/3671 ao fim', 'bairro': 'Seminário', 'localidade': 'Curitiba', 'uf': 'PR', 'ibge': '4106902', 'gia': '', 'ddd': '41', 'siafi': '7535'}, {'cep': '80250-900', 'logradouro': 'Avenida Silva Jardim', 'complemento': '1502', 'bairro': 'Água Verde', 'localidade': 'Curitiba', 'uf': 'PR', 'ibge': '4106902', 'gia': '', 'ddd': '41', 'siafi': '7535'}, {'cep': '80230-000', 'logradouro': 'Avenida Silva Jardim', 'complemento': 'até 1194/1195', 'bairro': 'Rebouças', 'localidade': 'Curitiba', 'uf': 'PR', 'ibge': '4106902', 'gia': '', 'ddd': '41', 'siafi': '7535'}, {'cep': '80250-200', 'logradouro': 'Avenida Silva Jardim', 'complemento': 'de 1196/1197 a 1589/1590', 'bairro': 'Rebouças', 'localidade': 'Curitiba', 'uf': 'PR', 'ibge': '4106902', 'gia': '', 'ddd': '41', 'siafi': '7535'}]\n"
     ]
    }
   ],
   "source": [
    "uf = input('Informe a sigla do estado a ser consultado: ')\n",
    "cidade = input('Informe o nome da cidade a ser consultada: ')\n",
    "endereco = input('Informe o nome da rua a ser consultada: ')\n",
    "\n",
    "link = f'https://viacep.com.br/ws/{uf}/{cidade}/{endereco}/json/'\n",
    "\n",
    "requisicao = requests.get(link)\n",
    "print(requisicao)\n",
    "\n",
    "dic_requisicao = requisicao.json()\n",
    "print(dic_requisicao)"
   ]
  },
  {
   "cell_type": "code",
   "execution_count": 6,
   "id": "563b0701",
   "metadata": {},
   "outputs": [
    {
     "data": {
      "text/html": [
       "<div>\n",
       "<style scoped>\n",
       "    .dataframe tbody tr th:only-of-type {\n",
       "        vertical-align: middle;\n",
       "    }\n",
       "\n",
       "    .dataframe tbody tr th {\n",
       "        vertical-align: top;\n",
       "    }\n",
       "\n",
       "    .dataframe thead th {\n",
       "        text-align: right;\n",
       "    }\n",
       "</style>\n",
       "<table border=\"1\" class=\"dataframe\">\n",
       "  <thead>\n",
       "    <tr style=\"text-align: right;\">\n",
       "      <th></th>\n",
       "      <th>cep</th>\n",
       "      <th>logradouro</th>\n",
       "      <th>complemento</th>\n",
       "      <th>bairro</th>\n",
       "      <th>localidade</th>\n",
       "      <th>uf</th>\n",
       "      <th>ibge</th>\n",
       "      <th>gia</th>\n",
       "      <th>ddd</th>\n",
       "      <th>siafi</th>\n",
       "    </tr>\n",
       "  </thead>\n",
       "  <tbody>\n",
       "    <tr>\n",
       "      <th>0</th>\n",
       "      <td>80240-020</td>\n",
       "      <td>Avenida Silva Jardim</td>\n",
       "      <td>de 1591/1592 a 3668/3669</td>\n",
       "      <td>Água Verde</td>\n",
       "      <td>Curitiba</td>\n",
       "      <td>PR</td>\n",
       "      <td>4106902</td>\n",
       "      <td></td>\n",
       "      <td>41</td>\n",
       "      <td>7535</td>\n",
       "    </tr>\n",
       "    <tr>\n",
       "      <th>1</th>\n",
       "      <td>80240-021</td>\n",
       "      <td>Avenida Silva Jardim</td>\n",
       "      <td>de 3670/3671 ao fim</td>\n",
       "      <td>Seminário</td>\n",
       "      <td>Curitiba</td>\n",
       "      <td>PR</td>\n",
       "      <td>4106902</td>\n",
       "      <td></td>\n",
       "      <td>41</td>\n",
       "      <td>7535</td>\n",
       "    </tr>\n",
       "    <tr>\n",
       "      <th>2</th>\n",
       "      <td>80250-900</td>\n",
       "      <td>Avenida Silva Jardim</td>\n",
       "      <td>1502</td>\n",
       "      <td>Água Verde</td>\n",
       "      <td>Curitiba</td>\n",
       "      <td>PR</td>\n",
       "      <td>4106902</td>\n",
       "      <td></td>\n",
       "      <td>41</td>\n",
       "      <td>7535</td>\n",
       "    </tr>\n",
       "    <tr>\n",
       "      <th>3</th>\n",
       "      <td>80230-000</td>\n",
       "      <td>Avenida Silva Jardim</td>\n",
       "      <td>até 1194/1195</td>\n",
       "      <td>Rebouças</td>\n",
       "      <td>Curitiba</td>\n",
       "      <td>PR</td>\n",
       "      <td>4106902</td>\n",
       "      <td></td>\n",
       "      <td>41</td>\n",
       "      <td>7535</td>\n",
       "    </tr>\n",
       "    <tr>\n",
       "      <th>4</th>\n",
       "      <td>80250-200</td>\n",
       "      <td>Avenida Silva Jardim</td>\n",
       "      <td>de 1196/1197 a 1589/1590</td>\n",
       "      <td>Rebouças</td>\n",
       "      <td>Curitiba</td>\n",
       "      <td>PR</td>\n",
       "      <td>4106902</td>\n",
       "      <td></td>\n",
       "      <td>41</td>\n",
       "      <td>7535</td>\n",
       "    </tr>\n",
       "  </tbody>\n",
       "</table>\n",
       "</div>"
      ],
      "text/plain": [
       "         cep            logradouro               complemento      bairro  \\\n",
       "0  80240-020  Avenida Silva Jardim  de 1591/1592 a 3668/3669  Água Verde   \n",
       "1  80240-021  Avenida Silva Jardim       de 3670/3671 ao fim   Seminário   \n",
       "2  80250-900  Avenida Silva Jardim                      1502  Água Verde   \n",
       "3  80230-000  Avenida Silva Jardim             até 1194/1195    Rebouças   \n",
       "4  80250-200  Avenida Silva Jardim  de 1196/1197 a 1589/1590    Rebouças   \n",
       "\n",
       "  localidade  uf     ibge gia ddd siafi  \n",
       "0   Curitiba  PR  4106902      41  7535  \n",
       "1   Curitiba  PR  4106902      41  7535  \n",
       "2   Curitiba  PR  4106902      41  7535  \n",
       "3   Curitiba  PR  4106902      41  7535  \n",
       "4   Curitiba  PR  4106902      41  7535  "
      ]
     },
     "metadata": {},
     "output_type": "display_data"
    }
   ],
   "source": [
    "import pandas as pd\n",
    "\n",
    "tabela = pd.DataFrame(dic_requisicao)\n",
    "display(tabela)"
   ]
  }
 ],
 "metadata": {
  "kernelspec": {
   "display_name": "Python 3 (ipykernel)",
   "language": "python",
   "name": "python3"
  },
  "language_info": {
   "codemirror_mode": {
    "name": "ipython",
    "version": 3
   },
   "file_extension": ".py",
   "mimetype": "text/x-python",
   "name": "python",
   "nbconvert_exporter": "python",
   "pygments_lexer": "ipython3",
   "version": "3.9.13"
  }
 },
 "nbformat": 4,
 "nbformat_minor": 5
}
