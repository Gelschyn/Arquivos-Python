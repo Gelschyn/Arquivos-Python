{
 "cells": [
  {
   "attachments": {},
   "cell_type": "markdown",
   "metadata": {},
   "source": [
    "#### Python e API com Login - Twilio:"
   ]
  },
  {
   "cell_type": "code",
   "execution_count": 2,
   "metadata": {},
   "outputs": [],
   "source": [
    "import json\n",
    "with open(r\"C:\\Users\\diego\\OneDrive\\Área de Trabalho\\Programação\\Hashtag Programação\\Material Aulas Python Impressionador\\dados_twilio.json\", \"r\") as arquivo:\n",
    "    dados_twilio = json.load(arquivo)"
   ]
  },
  {
   "cell_type": "code",
   "execution_count": 3,
   "metadata": {},
   "outputs": [
    {
     "name": "stdout",
     "output_type": "stream",
     "text": [
      "Mensagem enviada\n"
     ]
    }
   ],
   "source": [
    "from twilio.rest import Client\n",
    "\n",
    "account_sid = dados_twilio['id_conta']\n",
    "token = dados_twilio['token']\n",
    "\n",
    "client = Client(account_sid, token)\n",
    "\n",
    "remetente = dados_twilio['remetente']\n",
    "destino = dados_twilio['destino']\n",
    "\n",
    "message = client.messages.create(\n",
    "    to=destino, \n",
    "    from_=remetente,\n",
    "    body=\"Testando a api do twilio!\")\n",
    "\n",
    "print('Mensagem enviada')"
   ]
  }
 ],
 "metadata": {
  "kernelspec": {
   "display_name": "Python 3",
   "language": "python",
   "name": "python3"
  },
  "language_info": {
   "codemirror_mode": {
    "name": "ipython",
    "version": 3
   },
   "file_extension": ".py",
   "mimetype": "text/x-python",
   "name": "python",
   "nbconvert_exporter": "python",
   "pygments_lexer": "ipython3",
   "version": "3.9.13"
  }
 },
 "nbformat": 4,
 "nbformat_minor": 4
}
