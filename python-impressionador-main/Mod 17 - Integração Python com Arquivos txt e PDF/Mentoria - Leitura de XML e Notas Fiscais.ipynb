{
 "cells": [
  {
   "cell_type": "code",
   "execution_count": 1,
   "metadata": {},
   "outputs": [],
   "source": [
    "import xmltodict\n",
    "import os"
   ]
  },
  {
   "cell_type": "code",
   "execution_count": 2,
   "metadata": {},
   "outputs": [
    {
     "name": "stdout",
     "output_type": "stream",
     "text": [
      "{'Valor Total': ['374.17'], 'Nome Vendedor': ['BROTA COMPANY COMERCIO DE PLANTAS LTDA'], 'CNPJ Vendedor': ['36882195000279'], 'Nome Comprador': ['Lira da Hashtag'], 'CPF Comprador': ['10000000000'], 'Lista de Produtos': [[('b.box led', '389.00'), ('Tomilho Serpilho', '10.00'), ('Oregano Bravo-Europeu', '10.00'), ('Manjericao Italiano', '10.00'), ('Coentro Portugues', '10.00'), ('Salsa Hortense', '10.00'), ('Alface Baby-Leaf', '10.00')]]}\n",
      "{'Valor Total': ['849.00'], 'Nome Vendedor': ['NESTLE BRASIL LTDA'], 'CNPJ Vendedor': ['60409075055054'], 'Nome Comprador': ['Lira da Hashtag'], 'CPF Comprador': ['11122233344'], 'Lista de Produtos': [[('ESSENZA Mini C30 Metal 110V', '534.82'), ('NOMAD Travel Mug Festve Medium', '104.35'), ('Pack YEP 2021 50 Caps OL', '130.00')]]}\n",
      "{'Valor Total': ['4500'], 'Nome Vendedor': ['LIRA BOLADO NO XML'], 'CNPJ Vendedor': ['30000000000101'], 'Nome Comprador': ['HASHTAG TREINAMENTOS LTDA'], 'CPF Comprador': ['26344392000108'], 'Lista de Produtos': ['Nota referente aos serviços realizados no mês de Novembro de 2021.']}\n"
     ]
    }
   ],
   "source": [
    "def ler_xml_danfe(nota):\n",
    "    with open(nota, 'rb') as arquivo:\n",
    "        documento = xmltodict.parse(arquivo)\n",
    "\n",
    "    dic_notafiscal = documento['nfeProc']['NFe']['infNFe']\n",
    "\n",
    "    produtos = dic_notafiscal['det']\n",
    "\n",
    "    lista_produtos = []\n",
    "\n",
    "    for produto in produtos:\n",
    "        nome_produto = produto['prod']['xProd']\n",
    "        valor_produto = produto['prod']['vProd']\n",
    "        lista_produtos.append((nome_produto, valor_produto))\n",
    "\n",
    "    valor_total = dic_notafiscal['total']['ICMSTot']['vNF']\n",
    "    nome_vendedor = dic_notafiscal['emit']['xNome']\n",
    "    cnpj_vendedor = dic_notafiscal['emit']['CNPJ']\n",
    "    nome_comprador = dic_notafiscal['dest']['xNome']\n",
    "    cpf_comprador = dic_notafiscal['dest']['CPF']\n",
    "\n",
    "    dic_dados = {\n",
    "        'Valor Total': [valor_total],\n",
    "        'Nome Vendedor': [nome_vendedor],\n",
    "        'CNPJ Vendedor': [cnpj_vendedor],\n",
    "        'Nome Comprador': [nome_comprador],\n",
    "        'CPF Comprador': [cpf_comprador],\n",
    "        'Lista de Produtos': [lista_produtos],\n",
    "        }\n",
    "    return dic_dados\n",
    "\n",
    "def ler_xml_servico(nota):\n",
    "    with open(nota, 'rb') as arquivo:\n",
    "        documento = xmltodict.parse(arquivo)\n",
    "\n",
    "    dic_notafiscal = documento['ConsultarNfseResposta']['ListaNfse']['CompNfse']['Nfse']['InfNfse']\n",
    "\n",
    "    valor_total = dic_notafiscal['Servico']['Valores']['ValorServicos']\n",
    "    nome_vendedor = dic_notafiscal['PrestadorServico']['RazaoSocial']\n",
    "    cnpj_vendedor = dic_notafiscal['PrestadorServico']['IdentificacaoPrestador']['Cnpj']\n",
    "    nome_comprador = dic_notafiscal['TomadorServico']['RazaoSocial']\n",
    "    cpf_comprador = dic_notafiscal['TomadorServico']['IdentificacaoTomador']['CpfCnpj']['Cnpj']\n",
    "    produtos = dic_notafiscal['Servico']['Discriminacao']\n",
    "\n",
    "    dic_dados = {\n",
    "        'Valor Total': [valor_total],\n",
    "        'Nome Vendedor': [nome_vendedor],\n",
    "        'CNPJ Vendedor': [cnpj_vendedor],\n",
    "        'Nome Comprador': [nome_comprador],\n",
    "        'CPF Comprador': [cpf_comprador],\n",
    "        'Lista de Produtos': [produtos],\n",
    "        }\n",
    "    return dic_dados\n",
    "\n",
    "lista_nfs = os.listdir('Notas Fiscais - Mentoria')\n",
    "\n",
    "for nf in lista_nfs:\n",
    "    if 'xml' in nf:\n",
    "        if 'DANFE' in nf:\n",
    "            print(ler_xml_danfe(f'Notas Fiscais - Mentoria/{nf}'))\n",
    "        else:\n",
    "            print(ler_xml_servico(f'Notas Fiscais - Mentoria/{nf}'))\n"
   ]
  }
 ],
 "metadata": {
  "kernelspec": {
   "display_name": "base",
   "language": "python",
   "name": "python3"
  },
  "language_info": {
   "codemirror_mode": {
    "name": "ipython",
    "version": 3
   },
   "file_extension": ".py",
   "mimetype": "text/x-python",
   "name": "python",
   "nbconvert_exporter": "python",
   "pygments_lexer": "ipython3",
   "version": "3.9.13"
  },
  "orig_nbformat": 4
 },
 "nbformat": 4,
 "nbformat_minor": 2
}
