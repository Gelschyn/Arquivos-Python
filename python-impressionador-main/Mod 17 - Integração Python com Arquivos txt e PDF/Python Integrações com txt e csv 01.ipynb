{
 "cells": [
  {
   "attachments": {},
   "cell_type": "markdown",
   "metadata": {},
   "source": [
    "### Exercício 1:\n",
    "\n",
    "- Na Hashtag, sempre analisamos o nosso \"Funil de Vendas\". Para isso, rastreamos de onde vieram os alunos por meio de um código, do tipo:\n",
    "    - hashtag_site_org -> Pessoas que vieram pelo site da Hashtag\n",
    "    - hashtag_yt_org -> Pessoas que vieram pelo Youtube da Hashtag\n",
    "    - hashtag_ig_org -> Pessoas que vieram pelo Instagram da Hashtag\n",
    "    - hashtag_igfb_org -> Pessoas que vieram pelo Instagram ou Facebook da Hashtag\n",
    "\n",
    "Os códigos diferentes disso são códigos de anúncio da Hashtag.\n",
    "\n",
    "- Queremos analisar quantos alunos vieram de anúncio e quantos vieram de \"orgânico\".\n",
    "- Qual a melhor fonte \"orgânica\" de alunos? (Instagram e Facebook considerar como uma coisa só)\n",
    "\n",
    "Obs: orgânico é tudo aquilo que não veio de anúncios.<br>\n",
    "Obs2: um aluno pode vir de mais de uma fonte de orgânico.\n",
    "\n",
    "No nosso sistema, conseguimos exportar um txt com as informações dos alunos, conforme o arquivo Alunos.txt<br>\n",
    "(Os dados foram gerados aleatoriamente para simular uma situação real, já que não podemos fornecer os dados reais dos alunos por questões de segurança)\n",
    "\n",
    "- No final, para treinar, vamos escrever todas essas respostas em um novo arquivo txt"
   ]
  },
  {
   "cell_type": "code",
   "execution_count": 55,
   "metadata": {},
   "outputs": [],
   "source": [
    "total_org = 0\n",
    "_site_org = 0\n",
    "_yt_org = 0\n",
    "_igfb_org = 0\n",
    "ad = 0\n",
    "\n",
    "with open(r'Arquivos TXT\\Alunos.txt', 'r') as arq_alunos:\n",
    "    for linha in arq_alunos.readlines()[4:]:\n",
    "        email, origem = linha.split(',')\n",
    "        if '_org' in origem:\n",
    "            total_org += 1\n",
    "            if '_site_org' in origem:\n",
    "                _site_org +=1\n",
    "            if 'yt_org' in origem:\n",
    "                _yt_org +=1\n",
    "            if '_igfb_org' in origem or '_ig_org' in origem:\n",
    "                _igfb_org += 1\n",
    "        else:\n",
    "            ad += 1\n",
    "\n",
    "with open(r'Arquivos TXT\\Indicadores.txt', 'w') as indicadores:\n",
    "    indicadores.write(f'''Indicadores - Origem dos Alunos:\n",
    "\n",
    "Total orgânico: {total_org}\n",
    "\n",
    "    Site: {_site_org}\n",
    "    Youtube: {_yt_org}\n",
    "    Instagram/Facebook: {_igfb_org}\n",
    "\n",
    "Anúncio: {ad}''')"
   ]
  },
  {
   "cell_type": "code",
   "execution_count": 56,
   "metadata": {},
   "outputs": [],
   "source": [
    "counts = {'total_org': 0, 'site_org': 0, 'yt_org': 0, 'ig_org': 0, 'ad': 0}\n",
    "\n",
    "with open(r'Arquivos TXT\\Alunos.txt', 'r') as arq_alunos:\n",
    "    for linha in arq_alunos.readlines()[4:]:\n",
    "        email, origem = linha.split(',')\n",
    "        if '_org' in origem:\n",
    "            counts['total_org'] += 1\n",
    "            if '_site_org' in origem:\n",
    "                counts['site_org'] += 1\n",
    "            if '_yt_org' in origem:\n",
    "                counts['yt_org'] += 1\n",
    "            if '_ig_org' in origem or '_igfb_org' in origem:\n",
    "                counts['ig_org'] += 1\n",
    "        else:\n",
    "            counts['ad'] += 1\n",
    "\n",
    "with open(r'Arquivos TXT\\Indicadores_2.txt', 'w') as indicadores:\n",
    "    indicadores.write(f'''Indicadores - Origem dos Alunos:\n",
    "\n",
    "Total orgânico: {counts[\"total_org\"]}\n",
    "\n",
    "    Site: {counts[\"site_org\"]}\n",
    "    Youtube: {counts[\"yt_org\"]}\n",
    "    Instagram/Facebook: {counts[\"ig_org\"]}\n",
    "\n",
    "Anúncio: {counts['ad']}''')\n"
   ]
  }
 ],
 "metadata": {
  "kernelspec": {
   "display_name": "Python 3",
   "language": "python",
   "name": "python3"
  },
  "language_info": {
   "codemirror_mode": {
    "name": "ipython",
    "version": 3
   },
   "file_extension": ".py",
   "mimetype": "text/x-python",
   "name": "python",
   "nbconvert_exporter": "python",
   "pygments_lexer": "ipython3",
   "version": "3.9.13"
  }
 },
 "nbformat": 4,
 "nbformat_minor": 4
}
