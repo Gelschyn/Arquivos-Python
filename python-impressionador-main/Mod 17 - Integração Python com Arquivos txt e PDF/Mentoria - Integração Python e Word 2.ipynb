{
 "cells": [
  {
   "cell_type": "code",
   "execution_count": 2,
   "metadata": {},
   "outputs": [],
   "source": [
    "from datetime import datetime\n",
    "from docx import Document\n",
    "\n",
    "contrato = Document(r'Documentos Word - Mentoria\\Contrato.docx')\n",
    "\n",
    "nome = 'Diego Monutti'\n",
    "item1 = 'Serviço de Treinamento em Python'\n",
    "item2 = 'Apostila Completa Python'\n",
    "item3 = 'Serviço de Treinamentos de Python'\n",
    "\n",
    "dicionario_valores = {\n",
    "    'XXXX': nome,\n",
    "    'YYYY': item1,\n",
    "    'ZZZZ': item2,\n",
    "    'WWWW': item3,\n",
    "    'DD': str(datetime.now().day),\n",
    "    'MM': str(datetime.now().month),\n",
    "    'AAAA': str(datetime.now().year),\n",
    "}\n",
    "\n",
    "for paragrafo in contrato.paragraphs:\n",
    "    # para cada placeholder do dicionario\n",
    "    for codigo in dicionario_valores:\n",
    "        if codigo in paragrafo.text:\n",
    "            paragrafo.text = paragrafo.text.replace(codigo, dicionario_valores[codigo])\n",
    "\n",
    "contrato.save(fr'Documentos Word - Mentoria\\Contrato Atualizado - {nome}.docx')"
   ]
  }
 ],
 "metadata": {
  "kernelspec": {
   "display_name": "base",
   "language": "python",
   "name": "python3"
  },
  "language_info": {
   "codemirror_mode": {
    "name": "ipython",
    "version": 3
   },
   "file_extension": ".py",
   "mimetype": "text/x-python",
   "name": "python",
   "nbconvert_exporter": "python",
   "pygments_lexer": "ipython3",
   "version": "3.9.13"
  },
  "orig_nbformat": 4
 },
 "nbformat": 4,
 "nbformat_minor": 2
}
