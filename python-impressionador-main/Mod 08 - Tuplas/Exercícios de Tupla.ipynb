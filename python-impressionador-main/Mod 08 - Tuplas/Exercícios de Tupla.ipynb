{
 "cells": [
  {
   "cell_type": "markdown",
   "metadata": {},
   "source": [
    "# Exercícios\n",
    "\n",
    "São exercícios bem parecidos com os que fizemos com listas. Mas na tupla, podemos não só trabalhar com índices, mas fazer o \"unpacking\" das tuplas, o que pode facilitar nossos códigos.\n",
    "\n",
    "## 1. Análise de Vendas\n",
    "\n",
    "Nesse exercício vamos fazer uma \"análise simples\" de atingimento de Meta.\n",
    "\n",
    "Temos uma lista com os vendedores e os valores de vendas e queremos identificar (printar) quais os vendedores que bateram a meta e qual foi o valor que eles venderam."
   ]
  },
  {
   "cell_type": "code",
   "execution_count": 15,
   "metadata": {},
   "outputs": [
    {
     "name": "stdout",
     "output_type": "stream",
     "text": [
      "João bateu a meta - R$15,000.00\n",
      "Julia bateu a meta - R$27,000.00\n",
      "Ana bateu a meta - R$10,300.00\n"
     ]
    }
   ],
   "source": [
    "meta = 10000\n",
    "vendas = [\n",
    "    ('João', 15000),\n",
    "    ('Julia', 27000),\n",
    "    ('Marcus', 9900),\n",
    "    ('Maria', 3750),\n",
    "    ('Ana', 10300),\n",
    "    ('Alon', 7870),\n",
    "]\n",
    "\n",
    "for vendedor, vendas_vendedor in vendas:\n",
    "    if vendas_vendedor >= meta:\n",
    "        print(f'{vendedor} bateu a meta - R${vendas_vendedor:,.2f}')"
   ]
  },
  {
   "cell_type": "markdown",
   "metadata": {},
   "source": [
    "## 2. Comparação com Ano Anterior\n",
    "\n",
    "Digamos que você está analisando as vendas de produtos de um ecommerce e quer identificar quais produtos tiveram no ano de 2020 mais vendas do que no ano de 2019, para reportar isso para a diretoria.\n",
    "\n",
    "Sua resposta pode ser um print de cada produto, qual foi a venda de 2019, a venda de 2020 e o % de crescimento de 2020 para 2019.\n",
    "\n",
    "Lembrando, para calcular o % de crescimento de um produto de um ano para o outro, podemos fazer: (vendas_produto2020/vendas_produto2019 - 1)\n",
    "\n",
    "A lógica da tupla é: (produto, vendas2019, vendas2020)"
   ]
  },
  {
   "cell_type": "code",
   "execution_count": 26,
   "metadata": {},
   "outputs": [
    {
     "name": "stdout",
     "output_type": "stream",
     "text": [
      "          Produtos que tiveram crescimento nas vendas 2019-2020:          \n",
      "--------------------------------------------------------------------------\n",
      "\n",
      "      Produto          Vendas 2019      Vendas 2020      Crescimento  \n",
      "\n",
      "      Iphone        - R$ 558,147.00  - R$ 951,642.00  -    70.50 %    \n",
      "        Tv          - R$ 405,252.00  - R$ 787,604.00  -    94.35 %    \n",
      "  Máquina De Café   - R$ 718,654.00  - R$ 867,660.00  -    20.73 %    \n",
      "   Notebook Dell    - R$ 422,760.00  - R$ 694,913.00  -    64.38 %    \n",
      "    Notebook Hp     - R$ 154,753.00  - R$ 539,704.00  -    248.75 %   \n",
      " Microsoft Surface  - R$ 438,508.00  - R$ 667,179.00  -    52.15 %    \n",
      "      Webcam        - R$ 237,467.00  - R$ 295,633.00  -    24.49 %    \n",
      "   Caixa De Som     - R$ 489,705.00  - R$ 725,316.00  -    48.11 %    \n",
      "     Microfone      - R$ 328,311.00  - R$ 644,622.00  -    96.34 %    \n",
      "   Câmera Canon     - R$ 591,120.00  - R$ 994,303.00  -    68.21 %    \n"
     ]
    }
   ],
   "source": [
    "vendas_produtos = [('iphone', 558147, 951642), ('galaxy', 712350, 244295), ('ipad', 573823, 26964), ('tv', 405252, 787604), ('máquina de café', 718654, 867660), ('kindle', 531580, 78830), ('geladeira', 973139, 710331), ('adega', 892292, 646016), ('notebook dell', 422760, 694913), ('notebook hp', 154753, 539704), ('notebook asus', 887061, 324831), ('microsoft surface', 438508, 667179), ('webcam', 237467, 295633), ('caixa de som', 489705, 725316), ('microfone', 328311, 644622), ('câmera canon', 591120, 994303)]\n",
    "\n",
    "\n",
    "#seu código aqui:\n",
    "print(f'{\"Produtos que tiveram crescimento nas vendas 2019-2020:\":^74}')\n",
    "print('-'*74)\n",
    "print(f'\\n{\"Produto\":^19}   {\"Vendas 2019\":^14}   {\"Vendas 2020\":^14}   {\"Crescimento\":^14}\\n')\n",
    "for produto, vendas_2019, vendas_2020 in vendas_produtos:\n",
    "    if vendas_2020 > vendas_2019:\n",
    "        crescimento = (vendas_2020/vendas_2019 - 1) * 100\n",
    "        print(f'{produto.title():^19} - {f\"R$ {vendas_2019:,.2f}\":^14} - {f\"R$ {vendas_2020:,.2f}\":^14} - {f\"{crescimento:,.2f} %\":^14}')"
   ]
  }
 ],
 "metadata": {
  "kernelspec": {
   "display_name": "Python 3",
   "language": "python",
   "name": "python3"
  },
  "language_info": {
   "codemirror_mode": {
    "name": "ipython",
    "version": 3
   },
   "file_extension": ".py",
   "mimetype": "text/x-python",
   "name": "python",
   "nbconvert_exporter": "python",
   "pygments_lexer": "ipython3",
   "version": "3.8.3"
  }
 },
 "nbformat": 4,
 "nbformat_minor": 4
}
