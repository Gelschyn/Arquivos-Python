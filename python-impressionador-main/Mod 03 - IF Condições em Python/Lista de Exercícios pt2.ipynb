{
 "cells": [
  {
   "cell_type": "markdown",
   "metadata": {},
   "source": [
    "# Exercícios"
   ]
  },
  {
   "cell_type": "markdown",
   "metadata": {},
   "source": [
    "## 1. Criando um mini sistema de controle de estoque\n",
    "\n",
    "- Crie um sistema para ser usado pelo time de controle de estoque de um centro de distribuição.\n",
    "- Imagine que ao fim de todo dia, o time conta quantas unidades de produto existem no estoque. Se tivermos um estoque abaixo do estoque permitido para aquela categoria do produto, o time deve ser avisado (print) para fazer um novo pedido daquele produto.\n",
    "- Cada categoria de produto tem um estoque mínimo diferente, segundo a regra abaixo:\n",
    "\n",
    "- alimentos -> Estoque mínimo: 50\n",
    "- bebidas -> Estoque mínimo: 75\n",
    "- limpeza -> Estoque mínimo: 30\n",
    "\n",
    "Para isso vamos criar um programa que pede 3 inputs do usuário: nome do produto, categoria e quantidade atual em estoque.\n",
    "\n",
    "Se o produto tiver abaixo do estoque mínimo da categoria dele, o programa deve printar a mensagem \"Solicitar {produto} à equipe de compras, temos apenas {unidades} em estoque\"\n",
    "\n",
    "Exemplo: Se o usuário preenche os inputs com: bebidas, dolly, 90, o programa não deve exibir nenhuma mensagem.<br>\n",
    "Agora, se o usuário preenche os inputs com: bebidas, guaraná, 60, o programa deve exibir a mensagem \"Solicitar guaraná à equipe de compras, temos apenas 60 unidades em estoque.\n",
    "\n",
    "Obs: lembre de usar o int() para transformar o número inserido pelo usuário no input de string para int.<br>\n",
    "Obs2: Caso o usuário não preencha alguma das 3 informações, o programa deve exibir uma mensagem para avisá-lo de preencher corretamente."
   ]
  },
  {
   "cell_type": "code",
   "execution_count": 3,
   "metadata": {},
   "outputs": [
    {
     "name": "stdout",
     "output_type": "stream",
     "text": [
      "Solicitar água à equipe de compras, temos apenas 12 em estoque.\n"
     ]
    }
   ],
   "source": [
    "#seu código aqui\n",
    "\n",
    "# Dicionário com categorias e seus respectivos estoques mínimos:\n",
    "categorias = {\n",
    "    \"alimentos\": 50,\n",
    "    \"bebidas\": 75,\n",
    "    \"limpeza\": 30\n",
    "}\n",
    "\n",
    "# Pede o nome do produto ao usuário e verifica se o input não está vazio:\n",
    "produto = None\n",
    "while not produto:\n",
    "    produto = input('Insira o nome do produto: ')\n",
    "    if not produto:\n",
    "        print('Produto inválido. Por favor, digite novamente.')\n",
    "\n",
    "# Pede a categoria do produto e verifica se é uma categoria válida:\n",
    "categoria = None\n",
    "while categoria not in categorias:\n",
    "    categoria = input('Insira a categoria do produto (alimentos, bebidas ou limpeza): ').lower()\n",
    "    if categoria not in categorias:\n",
    "        print('Categoria inválida. Por favor, digite novamente.')\n",
    "\n",
    "# Pede a quantidade em estoque do produto e verifica se é um valor inteiro:\n",
    "quantidade = None\n",
    "while quantidade is None:\n",
    "    quantidade_str = input('Digite a quantidade atual em estoque: ')\n",
    "    if quantidade_str.isdigit():\n",
    "        quantidade = int(quantidade_str)\n",
    "    else:\n",
    "        print('Quantidade inválida. Por favor, digite novamente.')\n",
    "\n",
    "# Obtém o estoque mínimo da categoria do produto:\n",
    "estoque_minimo = categorias.get(categoria)\n",
    "\n",
    "#Se a quantidade em estoque for menor que o estoque mínimo, faz a solicitação de uma nova compra\n",
    "if quantidade < estoque_minimo:\n",
    "    print(f'Solicitar {produto} à equipe de compras, temos apenas {quantidade} em estoque.')"
   ]
  }
 ],
 "metadata": {
  "kernelspec": {
   "display_name": "base",
   "language": "python",
   "name": "python3"
  },
  "language_info": {
   "codemirror_mode": {
    "name": "ipython",
    "version": 3
   },
   "file_extension": ".py",
   "mimetype": "text/x-python",
   "name": "python",
   "nbconvert_exporter": "python",
   "pygments_lexer": "ipython3",
   "version": "3.9.13"
  },
  "vscode": {
   "interpreter": {
    "hash": "33c7e5e507e1022926d1b4a15fdb7aaab85e830ea0dd4a3b1c82cb1362c9524a"
   }
  }
 },
 "nbformat": 4,
 "nbformat_minor": 4
}
