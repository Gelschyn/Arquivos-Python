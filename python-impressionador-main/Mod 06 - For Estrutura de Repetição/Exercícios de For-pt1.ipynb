{
 "cells": [
  {
   "cell_type": "markdown",
   "metadata": {},
   "source": [
    "# Exercícios\n",
    "\n",
    "## 1. Criando um Registro de Hóspedes\n",
    "\n",
    "Digamos que você está criando o sistema para registrar a chegada de hóspedes em um hotel. No hotel, os hóspedes podem ter quartos com 1, 2, 3 e 4 pessoas. Seu sistema deve conseguir:\n",
    "\n",
    "1. Identificar quantas pessoas o hóspede que acabou de chegar vai ter no quarto (perguntando por meio de input)\n",
    "2. De acordo com a quantidade de pessoas do hóspede, ele deve fazer um for para perguntar o cpf e o nome de cada pessoa, a fim de registrá-la no quarto (2 inputs para cada pessoa, 1 para o cpf e outro para o nome)\n",
    "3. O seu programa então deve gerar uma lista com todas as pessoas que ficarão no quarto em que cada item dessa lista é o nome da pessoa e o cpf da pessoa, assim:"
   ]
  },
  {
   "cell_type": "raw",
   "metadata": {},
   "source": [
    "quarto = [\n",
    "    ['João', 'cpf:00000000000'],\n",
    "    ['Julia', 'cpf:11111111111'],\n",
    "    ['Marcus', 'cpf:22222222222'],\n",
    "    ['Maria', 'cpf:33333333333'],\n",
    "]"
   ]
  },
  {
   "cell_type": "markdown",
   "metadata": {},
   "source": [
    "- Para simplificar, não vamos nos preocupar com possibilidades de \"tentar colocar mais de 1 hóspede, digitar o cpf errado, etc. Nosso objetivo é treinar a criação de uma rotina de cadastro"
   ]
  },
  {
   "cell_type": "code",
   "execution_count": 4,
   "metadata": {},
   "outputs": [
    {
     "name": "stdout",
     "output_type": "stream",
     "text": [
      "2 hóspedes registrados com sucesso.\n",
      "Nome do 1° hóspede cadastrado com sucesso: Diego Monutti.\n",
      "CPF validado com sucesso: 12345678910.\n",
      "Nome do 2° hóspede cadastrado com sucesso: Maria Exemplo.\n",
      "CPF inválido. Por favor digite seu CPF novamente.\n",
      "CPF validado com sucesso: 12345678911.\n",
      "[['Diego Monutti', 'cpf: 12345678910'], ['Maria Exemplo', 'cpf: 12345678911']]\n"
     ]
    }
   ],
   "source": [
    "#seu código aqui\n",
    "#Função para tratar o cpf inserido pelo usuário e verificar:\n",
    "def formatar_verificar_cpf(cpf):\n",
    "    cpf_sem_separadores = cpf.replace(\".\", \"\").replace(\"-\", \"\").replace(\" \", \"\")\n",
    "    if cpf_sem_separadores.isnumeric() and len(cpf_sem_separadores) == 11:\n",
    "        return cpf_sem_separadores, True\n",
    "    else:\n",
    "        return None, False\n",
    "\n",
    "#Função para tratar o nome inserido pelo usuário e verificar:\n",
    "def formatar_verificar_nome(nome):\n",
    "    nome_formatado = nome.replace(\"  \", \" \").title()\n",
    "    nome_verificado = nome.replace(\" \", \"\")\n",
    "    if nome_verificado.isalpha():\n",
    "        return nome_formatado, True\n",
    "    else:\n",
    "        return None, False\n",
    "\n",
    "nomes_hospedes = []\n",
    "cpf_hospedes = []\n",
    "quarto = []\n",
    "\n",
    "#Registrando a quantidade de hóspedes\n",
    "while True:\n",
    "    qtd_hospedes = input('Insira quantos hóspedes serão registrados: ')\n",
    "    if qtd_hospedes.isnumeric() and int(qtd_hospedes) <= 4:\n",
    "        qtd_hospedes = int(qtd_hospedes)\n",
    "        print(f'{qtd_hospedes} hóspedes registrados com sucesso.')\n",
    "        break\n",
    "    else:\n",
    "        print('Quantidade inválida, por favor insira novamente a quantidade de hóspedes (1 a 4).')\n",
    "\n",
    "for i in range(qtd_hospedes):\n",
    "    while True:\n",
    "        nome = input(f'Insira o nome do {i+1}° hóspede: ')\n",
    "        nome, validar_nome = formatar_verificar_nome(nome)\n",
    "        if validar_nome:\n",
    "            print(f'Nome do {i+1}° hóspede cadastrado com sucesso: {nome}.')\n",
    "            nomes_hospedes.append(nome)\n",
    "            break\n",
    "        else:\n",
    "            print('Nome inválido. Por favor digite o nome novamente.')\n",
    "            continue\n",
    "    while True:\n",
    "        cpf = input(f'Insira o CPF do {i+1}° hóspede (Digite apenas números): ')\n",
    "        cpf, validar_cpf = formatar_verificar_cpf(cpf)\n",
    "        if validar_cpf and cpf not in cpf_hospedes:\n",
    "            print(f'CPF validado com sucesso: {cpf}.')\n",
    "            cpf_hospedes.append(cpf)\n",
    "            break\n",
    "        else:\n",
    "            print('CPF inválido. Por favor digite seu CPF novamente.')\n",
    "            continue\n",
    "\n",
    "    quarto.append([nomes_hospedes[i], f'cpf: {cpf_hospedes[i]}'])\n",
    "\n",
    "print(quarto)"
   ]
  },
  {
   "cell_type": "markdown",
   "metadata": {},
   "source": [
    "## 2. Análise de Vendas\n",
    "\n",
    "Nesse exercício vamos fazer uma \"análise simples\" de atingimento de Meta.\n",
    "\n",
    "Temos uma lista com os vendedores e os valores de vendas e queremos identificar (printar) quais os vendedores que bateram a meta e qual foi o valor que eles venderam."
   ]
  },
  {
   "cell_type": "code",
   "execution_count": 5,
   "metadata": {},
   "outputs": [
    {
     "name": "stdout",
     "output_type": "stream",
     "text": [
      "O(A) vendedor(a) João bateu a meta esse mês, vendendo R$ 15,000.00.\n",
      "O(A) vendedor(a) Julia bateu a meta esse mês, vendendo R$ 27,000.00.\n",
      "O(A) vendedor(a) Ana bateu a meta esse mês, vendendo R$ 10,300.00.\n"
     ]
    }
   ],
   "source": [
    "meta = 10000\n",
    "vendas = [\n",
    "    ['João', 15000],\n",
    "    ['Julia', 27000],\n",
    "    ['Marcus', 9900],\n",
    "    ['Maria', 3750],\n",
    "    ['Ana', 10300],\n",
    "    ['Alon', 7870],\n",
    "]\n",
    "#seu código aqui\n",
    "for venda in vendas:\n",
    "    if venda[1] >= meta:\n",
    "        print(f'O(A) vendedor(a) {venda[0]} bateu a meta esse mês, vendendo R$ {(venda[1]):,.2f}.')"
   ]
  },
  {
   "cell_type": "markdown",
   "metadata": {},
   "source": [
    "## 3. Comparação com Ano Anterior\n",
    "\n",
    "Digamos que você está analisando as vendas de produtos de um ecommerce e quer identificar quais produtos tiveram no ano de 2020 mais vendas do que no ano de 2019, para reportar isso para a diretoria.\n",
    "\n",
    "Sua resposta pode ser um print de cada produto, qual foi a venda de 2019, a venda de 2020 e o % de crescimento de 2020 para 2019.\n",
    "\n",
    "Lembrando, para calcular o % de crescimento de um produto de um ano para o outro, podemos fazer: (vendas_produto2020/vendas_produto2019 - 1)\n",
    "\n",
    "Dica: lembre do enumerate, ele pode facilitar seu \"for\""
   ]
  },
  {
   "cell_type": "code",
   "execution_count": 10,
   "metadata": {},
   "outputs": [
    {
     "name": "stdout",
     "output_type": "stream",
     "text": [
      "O produto \"iphone\" teve um crescimento de 70.50%. Sua venda em 2019 foi de R$ 558,147.00 e em 2020 foi de R$ 951,642.00.\n",
      "O produto \"tv\" teve um crescimento de 94.35%. Sua venda em 2019 foi de R$ 405,252.00 e em 2020 foi de R$ 787,604.00.\n",
      "O produto \"máquina de café\" teve um crescimento de 20.73%. Sua venda em 2019 foi de R$ 718,654.00 e em 2020 foi de R$ 867,660.00.\n",
      "O produto \"notebook dell\" teve um crescimento de 64.38%. Sua venda em 2019 foi de R$ 422,760.00 e em 2020 foi de R$ 694,913.00.\n",
      "O produto \"notebook hp\" teve um crescimento de 248.75%. Sua venda em 2019 foi de R$ 154,753.00 e em 2020 foi de R$ 539,704.00.\n",
      "O produto \"microsoft surface\" teve um crescimento de 52.15%. Sua venda em 2019 foi de R$ 438,508.00 e em 2020 foi de R$ 667,179.00.\n",
      "O produto \"webcam\" teve um crescimento de 24.49%. Sua venda em 2019 foi de R$ 237,467.00 e em 2020 foi de R$ 295,633.00.\n",
      "O produto \"caixa de som\" teve um crescimento de 48.11%. Sua venda em 2019 foi de R$ 489,705.00 e em 2020 foi de R$ 725,316.00.\n",
      "O produto \"microfone\" teve um crescimento de 96.34%. Sua venda em 2019 foi de R$ 328,311.00 e em 2020 foi de R$ 644,622.00.\n",
      "O produto \"câmera canon\" teve um crescimento de 68.21%. Sua venda em 2019 foi de R$ 591,120.00 e em 2020 foi de R$ 994,303.00.\n"
     ]
    }
   ],
   "source": [
    "produtos = ['iphone', 'galaxy', 'ipad', 'tv', 'máquina de café', 'kindle', 'geladeira', 'adega', 'notebook dell', 'notebook hp', 'notebook asus', 'microsoft surface', 'webcam', 'caixa de som', 'microfone', 'câmera canon']\n",
    "vendas2019 = [558147,712350,573823,405252,718654,531580,973139,892292,422760,154753,887061,438508,237467,489705,328311,591120]\n",
    "vendas2020 = [951642,244295,26964,787604,867660,78830,710331,646016,694913,539704,324831,667179,295633,725316,644622,994303]\n",
    "\n",
    "#seu código aqui\n",
    "for i, produto in enumerate(produtos):\n",
    "    if vendas2020[i] > vendas2019[i]:\n",
    "        crescimento = (vendas2020[i]/vendas2019[i] -1) *100\n",
    "        print(f'O produto \"{produto}\" teve um crescimento de {crescimento:.2f}%. Sua venda em 2019 foi de R$ {vendas2019[i]:,.2f} e em 2020 foi de R$ {vendas2020[i]:,.2f}.')\n"
   ]
  },
  {
   "cell_type": "code",
   "execution_count": 14,
   "metadata": {},
   "outputs": [
    {
     "name": "stdout",
     "output_type": "stream",
     "text": [
      "O produto \"iphone\" teve um crescimento de 70.50%. Sua venda em 2019 foi de R$ 558,147.00 e em 2020 foi de R$ 951,642.00.\n",
      "O produto \"tv\" teve um crescimento de 94.35%. Sua venda em 2019 foi de R$ 405,252.00 e em 2020 foi de R$ 787,604.00.\n",
      "O produto \"máquina de café\" teve um crescimento de 20.73%. Sua venda em 2019 foi de R$ 718,654.00 e em 2020 foi de R$ 867,660.00.\n",
      "O produto \"notebook dell\" teve um crescimento de 64.38%. Sua venda em 2019 foi de R$ 422,760.00 e em 2020 foi de R$ 694,913.00.\n",
      "O produto \"notebook hp\" teve um crescimento de 248.75%. Sua venda em 2019 foi de R$ 154,753.00 e em 2020 foi de R$ 539,704.00.\n",
      "O produto \"microsoft surface\" teve um crescimento de 52.15%. Sua venda em 2019 foi de R$ 438,508.00 e em 2020 foi de R$ 667,179.00.\n",
      "O produto \"webcam\" teve um crescimento de 24.49%. Sua venda em 2019 foi de R$ 237,467.00 e em 2020 foi de R$ 295,633.00.\n",
      "O produto \"caixa de som\" teve um crescimento de 48.11%. Sua venda em 2019 foi de R$ 489,705.00 e em 2020 foi de R$ 725,316.00.\n",
      "O produto \"microfone\" teve um crescimento de 96.34%. Sua venda em 2019 foi de R$ 328,311.00 e em 2020 foi de R$ 644,622.00.\n",
      "O produto \"câmera canon\" teve um crescimento de 68.21%. Sua venda em 2019 foi de R$ 591,120.00 e em 2020 foi de R$ 994,303.00.\n",
      "\n",
      "{'iphone': {'crescimento': 70.5, 'vendas2019': 558147, 'vendas2020': 951642}, 'tv': {'crescimento': 94.35, 'vendas2019': 405252, 'vendas2020': 787604}, 'máquina de café': {'crescimento': 20.73, 'vendas2019': 718654, 'vendas2020': 867660}, 'notebook dell': {'crescimento': 64.38, 'vendas2019': 422760, 'vendas2020': 694913}, 'notebook hp': {'crescimento': 248.75, 'vendas2019': 154753, 'vendas2020': 539704}, 'microsoft surface': {'crescimento': 52.15, 'vendas2019': 438508, 'vendas2020': 667179}, 'webcam': {'crescimento': 24.49, 'vendas2019': 237467, 'vendas2020': 295633}, 'caixa de som': {'crescimento': 48.11, 'vendas2019': 489705, 'vendas2020': 725316}, 'microfone': {'crescimento': 96.34, 'vendas2019': 328311, 'vendas2020': 644622}, 'câmera canon': {'crescimento': 68.21, 'vendas2019': 591120, 'vendas2020': 994303}}\n"
     ]
    }
   ],
   "source": [
    "#Armazenando os dados de crescimento em um dicionário (extra):\n",
    "\n",
    "produtos = ['iphone', 'galaxy', 'ipad', 'tv', 'máquina de café', 'kindle', 'geladeira', 'adega', 'notebook dell', 'notebook hp', 'notebook asus', 'microsoft surface', 'webcam', 'caixa de som', 'microfone', 'câmera canon']\n",
    "vendas2019 = [558147,712350,573823,405252,718654,531580,973139,892292,422760,154753,887061,438508,237467,489705,328311,591120]\n",
    "vendas2020 = [951642,244295,26964,787604,867660,78830,710331,646016,694913,539704,324831,667179,295633,725316,644622,994303]\n",
    "\n",
    "crescimento_vendas = {}\n",
    "\n",
    "#seu código aqui\n",
    "for i, produto in enumerate(produtos):\n",
    "    if vendas2020[i] > vendas2019[i]:\n",
    "        crescimento = (vendas2020[i]/vendas2019[i] -1) *100\n",
    "        crescimento_vendas[produto] = {\n",
    "            'crescimento': round(crescimento, 2),\n",
    "            'vendas2019': vendas2019[i],\n",
    "            'vendas2020': vendas2020[i]\n",
    "        }\n",
    "        print(f'O produto \"{produto}\" teve um crescimento de {crescimento:.2f}%. Sua venda em 2019 foi de R$ {vendas2019[i]:,.2f} e em 2020 foi de R$ {vendas2020[i]:,.2f}.')\n",
    "\n",
    "print()\n",
    "print(crescimento_vendas)"
   ]
  }
 ],
 "metadata": {
  "kernelspec": {
   "display_name": "base",
   "language": "python",
   "name": "python3"
  },
  "language_info": {
   "codemirror_mode": {
    "name": "ipython",
    "version": 3
   },
   "file_extension": ".py",
   "mimetype": "text/x-python",
   "name": "python",
   "nbconvert_exporter": "python",
   "pygments_lexer": "ipython3",
   "version": "3.9.13"
  },
  "vscode": {
   "interpreter": {
    "hash": "33c7e5e507e1022926d1b4a15fdb7aaab85e830ea0dd4a3b1c82cb1362c9524a"
   }
  }
 },
 "nbformat": 4,
 "nbformat_minor": 4
}
