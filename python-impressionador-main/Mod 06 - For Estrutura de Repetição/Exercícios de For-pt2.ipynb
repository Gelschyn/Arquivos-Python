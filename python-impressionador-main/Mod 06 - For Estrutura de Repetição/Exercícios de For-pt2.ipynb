{
 "cells": [
  {
   "cell_type": "markdown",
   "metadata": {},
   "source": [
    "# Exercícios\n",
    "\n",
    "## 1. Calculando % de uma lista\n",
    "\n",
    "Faremos algo parecido com \"filtrar\" uma lista. Mais pra frente no curso aprenderemos outras formas de fazer isso, mas com o nosso conhecimentoa atual já conseguimos resolver o desafio.\n",
    "\n",
    "Digamos que a gente tenha uma lista de vendedores e ao invés de saber todos os vendedores que bateram a meta, eu quero conseguir calcular o % de vendedores que bateram a meta. Ou seja, se temos 10 vendedores e 3 bateram a meta, temos 30% dos vendedores que bateram a meta."
   ]
  },
  {
   "cell_type": "code",
   "execution_count": 10,
   "metadata": {},
   "outputs": [],
   "source": [
    "meta = 10000\n",
    "vendas = [\n",
    "    ['João', 15000],\n",
    "    ['Julia', 27000],\n",
    "    ['Marcus', 9900],\n",
    "    ['Maria', 3750],\n",
    "    ['Ana', 10300],\n",
    "    ['Alon', 7870],\n",
    "]"
   ]
  },
  {
   "attachments": {},
   "cell_type": "markdown",
   "metadata": {},
   "source": [
    "- Vamos resolver de 2 formas:\n",
    "    1. Criando uma lista auxiliar apenas com os vendedores que bateram a meta"
   ]
  },
  {
   "cell_type": "code",
   "execution_count": 11,
   "metadata": {},
   "outputs": [
    {
     "name": "stdout",
     "output_type": "stream",
     "text": [
      "Tivemos 50.00% dos vendedores que bateram a meta.\n"
     ]
    }
   ],
   "source": [
    "bateram_meta = []\n",
    "\n",
    "for venda in vendas:\n",
    "    if venda[1] >= meta:\n",
    "        bateram_meta.append(venda)\n",
    "\n",
    "print(f'Tivemos {(len(bateram_meta)/len(vendas) *100):.2f}% dos vendedores que bateram a meta.')"
   ]
  },
  {
   "attachments": {},
   "cell_type": "markdown",
   "metadata": {},
   "source": [
    "2. Fazendo o cálculo diretamente na lista que já temos"
   ]
  },
  {
   "cell_type": "code",
   "execution_count": 12,
   "metadata": {},
   "outputs": [
    {
     "name": "stdout",
     "output_type": "stream",
     "text": [
      "Tivemos 50.00% dos vendedores que bateram a meta.\n"
     ]
    }
   ],
   "source": [
    "bateram_meta = 0\n",
    "for venda in vendas:\n",
    "    if venda[1] >= meta:\n",
    "        bateram_meta += 1\n",
    "\n",
    "print(f'Tivemos {(bateram_meta/len(vendas) *100):.2f}% dos vendedores que bateram a meta.')"
   ]
  },
  {
   "cell_type": "markdown",
   "metadata": {},
   "source": [
    "## Para treinar uma estrutura parecida, crie um código para responder: quem foi o vendedor que mais vendeu?"
   ]
  },
  {
   "cell_type": "code",
   "execution_count": 13,
   "metadata": {},
   "outputs": [
    {
     "name": "stdout",
     "output_type": "stream",
     "text": [
      "O(A) vendedor(a) que mais vendeu foi \"Julia\" com R$27,000.00.\n"
     ]
    }
   ],
   "source": [
    "#seu código aqui\n",
    "vendedor = ''\n",
    "maior_valor = 0\n",
    "\n",
    "for venda in vendas:\n",
    "    if venda[1] >= valor:\n",
    "        vendedor = venda[0]\n",
    "        maior_valor = venda[1]\n",
    "\n",
    "print(f'O(A) vendedor(a) que mais vendeu foi \"{vendedor}\" com R${maior_valor:,.2f}.')"
   ]
  },
  {
   "cell_type": "code",
   "execution_count": 14,
   "metadata": {},
   "outputs": [
    {
     "name": "stdout",
     "output_type": "stream",
     "text": [
      "Os vendedores que mais venderam foram Julia e Diego com R$27,000.00.\n"
     ]
    }
   ],
   "source": [
    "#Caso houvessem vendedores com o mesmo valor de vendas\n",
    "\n",
    "meta = 10000\n",
    "vendas = [\n",
    "    ['João', 15000],\n",
    "    ['Julia', 27000],\n",
    "    ['Marcus', 9900],\n",
    "    ['Maria', 3750],\n",
    "    ['Ana', 10300],\n",
    "    ['Alon', 7870],\n",
    "    ['Diego', 27000]\n",
    "]\n",
    "\n",
    "vendedores = []\n",
    "maior_valor = 0\n",
    "\n",
    "for venda in vendas:\n",
    "    if venda[1] >= maior_valor:\n",
    "        if venda[1] > maior_valor:\n",
    "            vendedores = []\n",
    "        maior_valor = venda[1]\n",
    "        vendedores.append(venda[0])\n",
    "\n",
    "if len(vendedores) == 1:\n",
    "    print(f'O(A) vendedor(a) que mais vendeu foi \"{vendedores[0]}\" com R${maior_valor:,.2f}.')\n",
    "else:\n",
    "    nomes_vendedores = ' e '.join(vendedores)\n",
    "    print(f'Os vendedores que mais venderam foram {nomes_vendedores} com R${maior_valor:,.2f}.')\n"
   ]
  }
 ],
 "metadata": {
  "kernelspec": {
   "display_name": "base",
   "language": "python",
   "name": "python3"
  },
  "language_info": {
   "codemirror_mode": {
    "name": "ipython",
    "version": 3
   },
   "file_extension": ".py",
   "mimetype": "text/x-python",
   "name": "python",
   "nbconvert_exporter": "python",
   "pygments_lexer": "ipython3",
   "version": "3.9.13"
  },
  "vscode": {
   "interpreter": {
    "hash": "33c7e5e507e1022926d1b4a15fdb7aaab85e830ea0dd4a3b1c82cb1362c9524a"
   }
  }
 },
 "nbformat": 4,
 "nbformat_minor": 4
}
