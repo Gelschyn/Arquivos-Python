{
 "cells": [
  {
   "cell_type": "markdown",
   "id": "2b04bbea",
   "metadata": {},
   "source": [
    "# Strings\n",
    "\n",
    "<span style=\"color: red;\"><b>Todos os exercícios são feitos partindo-se do pressuposto de que todas as entradas são dadas de forma correta. Casos limite não mencionados no enunciado não são abordados porque não fazem parte do exercício.</b></span>"
   ]
  },
  {
   "cell_type": "markdown",
   "id": "5b1f33b9",
   "metadata": {},
   "source": [
    "#### 1. Tamanho de strings. Faça um programa que leia 2 strings e informe o conteúdo delas seguido do seu comprimento. Informe também se as duas strings possuem o mesmo comprimento e são iguais ou diferentes no conteúdo.\n",
    "<pre>\n",
    "Compara duas strings\n",
    "String 1: Brasil Hexa 2006\n",
    "String 2: Brasil! Hexa 2006!\n",
    "Tamanho de \"Brasil Hexa 2006\": 16 caracteres\n",
    "Tamanho de \"Brasil! Hexa 2006!\": 18 caracteres\n",
    "As duas strings são de tamanhos diferentes.\n",
    "As duas strings possuem conteúdo diferente.\n",
    "</pre>"
   ]
  },
  {
   "cell_type": "code",
   "execution_count": 3,
   "id": "c492b657",
   "metadata": {},
   "outputs": [
    {
     "name": "stdout",
     "output_type": "stream",
     "text": [
      "\n",
      "String 1: Diego está estudando python!\n",
      "String 2: Diego está realmente estudando python!\n",
      "Tamanho da String 1 \"Diego está estudando python!\": 28 caracter(es)\n",
      "Tamanho da String 2 \"Diego está realmente estudando python!\": 38 caracter(es)\n",
      "As duas strings são de tamanhos diferentes e possuem conteúdo diferente.\n"
     ]
    }
   ],
   "source": [
    "strings = []\n",
    "\n",
    "for i in range(2):\n",
    "    string = input(f'Digite a {i+1}ª string: ')\n",
    "    while not string:\n",
    "        string = input(f'Campo vazio. Digite a {i+1}ª string novamente: ')\n",
    "    strings.append(string)\n",
    "\n",
    "print(f'''\n",
    "String 1: {strings[0]}\n",
    "String 2: {strings[1]}\n",
    "Tamanho da String 1 \"{strings[0]}\": {len(strings[0])} caracter(es)\n",
    "Tamanho da String 2 \"{strings[1]}\": {len(strings[1])} caracter(es)''')\n",
    "if len(strings[0]) != len(strings[1]):\n",
    "    print('As duas strings são de tamanhos diferentes e possuem conteúdo diferente.')\n",
    "else:\n",
    "    print('As duas strings são do mesmo tamanho.')\n",
    "    if strings[0] == strings[1]:\n",
    "        print('As duas strings possuem conteúdo igual.')\n",
    "    else:\n",
    "        print('As duas strings possuem conteúdo diferente.')"
   ]
  },
  {
   "cell_type": "markdown",
   "id": "c3068a53",
   "metadata": {},
   "source": [
    "#### 2. Valida e corrige número de telefone. Faça um programa que leia um número de telefone, e corrija o número no caso deste conter somente 7 dígitos, acrescentando o '3' na frente. O usuário pode informar o número com ou sem o traço separador.\n",
    "<pre>\n",
    "Valida e corrige número de telefone\n",
    "Telefone: 461-0133\n",
    "Telefone possui 7 dígitos. Vou acrescentar o digito três na frente.\n",
    "Telefone corrigido sem formatação: 34610133\n",
    "Telefone corrigido com formatação: 3461-0133\n",
    "</pre>"
   ]
  },
  {
   "cell_type": "code",
   "execution_count": 9,
   "id": "0308566d",
   "metadata": {},
   "outputs": [
    {
     "name": "stdout",
     "output_type": "stream",
     "text": [
      "Número invalido. Por favor insira o número de telefone novamente.\n",
      "Número invalido. Por favor insira o número de telefone novamente.\n",
      "Número invalido. Por favor insira o número de telefone novamente.\n",
      "Telefone informado possui apenas 7 dígitos. Vou acrescentar o digito 3 na frente.\n",
      "O número informado foi: 3123-4567\n"
     ]
    }
   ],
   "source": [
    "def validar_telefone(numero):\n",
    "    numero_inserido = numero.replace(\"-\", \"\").replace(\" \", \"\")\n",
    "    return numero_inserido.isnumeric() if numero_inserido else False\n",
    "\n",
    "def formatar_telefone(numero):\n",
    "    numero_inserido = numero.replace(\"-\", \"\").replace(\" \", \"\")\n",
    "    if len(numero_inserido) == 7:\n",
    "        numero_formatado = '3' + numero_inserido[:3] + '-' + numero_inserido[3:]\n",
    "    else:\n",
    "        numero_formatado = numero_inserido[:3] + '-' + numero_inserido[3:]\n",
    "    return numero_formatado\n",
    "\n",
    "while True:\n",
    "    numero = input('Insira o número de telefone fixo: ')\n",
    "    if validar_telefone(numero) and len(numero) >= 7 and len(numero) <= 8:\n",
    "        if len(numero) == 7:\n",
    "            print('Telefone informado possui apenas 7 dígitos. Vou acrescentar o digito 3 na frente.')\n",
    "        else:\n",
    "            pass\n",
    "        print (f'O número informado foi: {formatar_telefone(numero)}')\n",
    "        break\n",
    "    else:\n",
    "        print('Número invalido. Por favor insira o número de telefone novamente.')"
   ]
  },
  {
   "cell_type": "code",
   "execution_count": 8,
   "id": "96ba586f",
   "metadata": {},
   "outputs": [
    {
     "name": "stdout",
     "output_type": "stream",
     "text": [
      "Número invalido. Por favor insira o número de telefone novamente.\n",
      "Telefone informado possui apenas 7 dígitos. Vou acrescentar o digito 3 na frente.\n",
      "O número informado foi: 3123-4567\n"
     ]
    }
   ],
   "source": [
    "import re\n",
    "\n",
    "def validar_telefone(numero):\n",
    "    numero_inserido = re.sub(r'[\\s-]', '', numero)\n",
    "    return numero_inserido.isnumeric() if numero_inserido else False\n",
    "\n",
    "def formatar_telefone(numero):\n",
    "    numero_inserido = re.sub(r'[\\s-]', '', numero)\n",
    "    if len(numero_inserido) == 7:\n",
    "        numero_formatado = '3' + numero_inserido[:3] + '-' + numero_inserido[3:]\n",
    "    else:\n",
    "        numero_formatado = numero_inserido[:3] + '-' + numero_inserido[3:]\n",
    "    return numero_formatado\n",
    "\n",
    "while True:\n",
    "    numero = input('Insira o número de telefone fixo: ')\n",
    "    if validar_telefone(numero) and len(numero) >= 7 and len(numero) <= 8:\n",
    "        if len(numero) == 7:\n",
    "            print('Telefone informado possui apenas 7 dígitos. Vou acrescentar o digito 3 na frente.')\n",
    "        else:\n",
    "            pass\n",
    "        print(f'O número informado foi: {formatar_telefone(numero)}')\n",
    "        break\n",
    "    else:\n",
    "        print('Número invalido. Por favor insira o número de telefone novamente.')"
   ]
  }
 ],
 "metadata": {
  "kernelspec": {
   "display_name": "base",
   "language": "python",
   "name": "python3"
  },
  "language_info": {
   "codemirror_mode": {
    "name": "ipython",
    "version": 3
   },
   "file_extension": ".py",
   "mimetype": "text/x-python",
   "name": "python",
   "nbconvert_exporter": "python",
   "pygments_lexer": "ipython3",
   "version": "3.9.13"
  },
  "vscode": {
   "interpreter": {
    "hash": "33c7e5e507e1022926d1b4a15fdb7aaab85e830ea0dd4a3b1c82cb1362c9524a"
   }
  }
 },
 "nbformat": 4,
 "nbformat_minor": 5
}
