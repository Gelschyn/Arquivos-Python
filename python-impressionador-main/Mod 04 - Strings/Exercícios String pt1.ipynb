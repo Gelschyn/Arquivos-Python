{
 "cells": [
  {
   "cell_type": "markdown",
   "metadata": {},
   "source": [
    "# Exercícios\n",
    "\n",
    "## 1. Cadastro de CPF\n",
    "\n",
    "Crie um programa para cadastro de CPF de clientes que recebe o CPF em um input box apenas com números.\n",
    "\n",
    "Ex: 'Insira seu CPF (digite apenas números)'\n",
    "\n",
    "Caso o usuário digite algo diferente de números ou digite menos de 11 caracteres (tamanho do CPF brasileiro), o programa deve exibir uma mensagem de \"Digite seu CPF corretamente e digite apenas números\""
   ]
  },
  {
   "cell_type": "code",
   "execution_count": 4,
   "metadata": {},
   "outputs": [
    {
     "name": "stdout",
     "output_type": "stream",
     "text": [
      "CPF validado com sucesso: 12345678910.\n"
     ]
    }
   ],
   "source": [
    "while True:\n",
    "    cpf = input('Insira seu CPF (Digite apenas números): ')\n",
    "    if cpf.isnumeric() and len(cpf) == 11:\n",
    "        print(f'CPF validado com sucesso: {cpf}.')\n",
    "        break\n",
    "    else:\n",
    "        print('CPF inválido. Por favor digite seu CPF novamente.')"
   ]
  },
  {
   "cell_type": "markdown",
   "metadata": {},
   "source": [
    "## 2. Melhorando nosso Cadastro de CPF\n",
    "\n",
    "Agora, além das validações anteriores, vamos criar um input que permita que o usuário insira pontos, traços e inclusive espaços vazios.\n",
    "\n",
    "Nosso programa deve \"tratar\" o que o usuário inserir para padronizar o CPF dele em apenas números.\n",
    "\n",
    "A verificação de tamanho do CPF com 11 caracteres continua válida, mas ela só deve ser feita depois de retirar todos os pontos, traços e espaços do CPF que o cliente inserir e, uma vez retirados pontos, traços e espaços, devem sobrar apenas números no CPF. Qualquer outro caractere deve ser considerado inválido.\n",
    "\n",
    "No final, nosso programa deve exibir uma mensagem para o usuário, caso ele tenha inserido o CPF inválido ou então apenas deve printar o CPF correto já só com número."
   ]
  },
  {
   "cell_type": "code",
   "execution_count": 8,
   "metadata": {},
   "outputs": [
    {
     "name": "stdout",
     "output_type": "stream",
     "text": [
      "CPF validado com sucesso: 12345678910.\n"
     ]
    }
   ],
   "source": [
    "def formatar_cpf(cpf):\n",
    "    cpf_sem_separadores = cpf.replace(\".\", \"\").replace(\"-\", \"\").replace(\" \", \"\")\n",
    "    return cpf_sem_separadores\n",
    "\n",
    "while True:\n",
    "    cpf = input('Insira seu CPF (Digite apenas números): ')\n",
    "    cpf = formatar_cpf(cpf)\n",
    "    if cpf.isnumeric() and len(cpf) == 11:\n",
    "        print(f'CPF validado com sucesso: {cpf}.')\n",
    "        break\n",
    "    else:\n",
    "        print('CPF inválido. Por favor digite seu CPF novamente.')"
   ]
  },
  {
   "cell_type": "code",
   "execution_count": 9,
   "metadata": {},
   "outputs": [
    {
     "name": "stdout",
     "output_type": "stream",
     "text": [
      "CPF inválido. Por favor digite seu CPF novamente.\n",
      "CPF validado com sucesso: 12345678910.\n"
     ]
    }
   ],
   "source": [
    "import re\n",
    "\n",
    "def formatar_cpf(cpf):\n",
    "    cpf = re.sub(r\"\\D\", \"\", cpf) # Remove caracteres que não são dígitos\n",
    "    return cpf\n",
    "\n",
    "while True:\n",
    "    cpf = input('Insira seu CPF (Digite apenas números): ')\n",
    "    cpf = formatar_cpf(cpf)\n",
    "    if cpf.isdigit() and len(cpf) == 11:\n",
    "        print(f'CPF validado com sucesso: {cpf}.')\n",
    "        break\n",
    "    else:\n",
    "        print('CPF inválido. Por favor digite seu CPF novamente.')"
   ]
  },
  {
   "cell_type": "markdown",
   "metadata": {},
   "source": [
    "## 3. Cadastro de e-mails\n",
    "\n",
    "- A Hashtag sempre se comunica com seus clientes por e-mail. Para isso, a gente tem em cada página um cadastro de nome e e-mail. Nesse cadastro, nosso sistema verifica se o e-mail que a pessoa inseriu é um e-mail válido, verificando se ele tem '@' e se depois do '@' tem algum ponto, afinal:\n",
    "\n",
    "- liragmail.com NÃO é um e-mail válido\n",
    "- lira@gmail NÃO é um e-mail válido\n",
    "- lira@gmail.com é um e-mail válido\n",
    "\n",
    "Crie um programa que permita o cadastro de nome e e-mail de uma pessoa (por meio de inputs) e que verifique:\n",
    "1. Se nome e e-mail foram preenchidos, caso contrário ele deve avisar para preencher todos os dados corretamente\n",
    "2. Se o e-mail contém '@' e se depois do '@' existe algum '.', caso contrário ele deve exibir uma mensagem de e-mail inválido\n",
    "\n",
    "Obs: Pode te ajudar lembrar do método .find da aula de Métodos de String. Você pode testar o que ele dá como resposta caso ele não encontre um item dentro da string"
   ]
  },
  {
   "cell_type": "code",
   "execution_count": 4,
   "metadata": {},
   "outputs": [
    {
     "name": "stdout",
     "output_type": "stream",
     "text": [
      "Nome cadastrados com sucesso: Diego Monutti.\n",
      "E-mail cadastrado com sucesso: diego@exemplo.com\n"
     ]
    }
   ],
   "source": [
    "def verificar_email(email):\n",
    "    if '@' in email:\n",
    "        posicao = email.find('@')\n",
    "        if '.com' in email[posicao:]:\n",
    "            return True\n",
    "    else:\n",
    "        return False\n",
    "    \n",
    "def formatar_email(email):\n",
    "    email_formatado = email.replace(\" \", \"\")\n",
    "    return email_formatado\n",
    "\n",
    "def formatar_nome(nome):\n",
    "    nome_formatado = nome.replace(\"  \", \" \").title()\n",
    "    return nome_formatado\n",
    "\n",
    "def verificar_nome(nome):\n",
    "    nome_verificado = nome.replace(\" \", \"\")\n",
    "    if nome_verificado.isalpha():\n",
    "        return True\n",
    "    else:\n",
    "        return False\n",
    "\n",
    "while True:\n",
    "    nome = input('Insira o seu nome: ')\n",
    "    nome = formatar_nome(nome)\n",
    "    validar_nome = verificar_nome(nome)\n",
    "    if validar_nome:\n",
    "        print(f'Nome cadastrado com sucesso: {nome}.')\n",
    "        break\n",
    "    else:\n",
    "        print('Nome inválido. Por favor digite seu nome novamente.')\n",
    "        continue\n",
    "\n",
    "while True:\n",
    "    email = input('Insira o seu e-mail: ')\n",
    "    email = formatar_email(email)\n",
    "    validar_email = verificar_email(email)\n",
    "    if validar_email:\n",
    "        print(f'E-mail cadastrado com sucesso: {email}')\n",
    "        break\n",
    "    else:\n",
    "        print('E-mail inválido. Por favor digite seu e-mail novamente.')\n",
    "        continue"
   ]
  },
  {
   "cell_type": "code",
   "execution_count": 3,
   "metadata": {},
   "outputs": [
    {
     "name": "stdout",
     "output_type": "stream",
     "text": [
      "Nome cadastrados com sucesso: Diego Monutti.\n",
      "E-mail inválido. Por favor digite seu e-mail novamente.\n",
      "E-mail cadastrado com sucesso: diego@exemplo.com\n"
     ]
    }
   ],
   "source": [
    "#Fazendo a validação do email com expressões regulares:\n",
    "import re\n",
    "\n",
    "def verificar_email(email):\n",
    "    padrao = r'\\b[A-Za-z0-9._%+-]+@[A-Za-z0-9.-]{2,}\\.[A-Za-z]{2,}\\b'\n",
    "    return re.match(padrao, email)\n",
    "\n",
    "def formatar_email(email):\n",
    "    email_formatado = email.replace(\" \", \"\")\n",
    "    return email_formatado\n",
    "\n",
    "def formatar_nome(nome):\n",
    "    nome_formatado = nome.replace(\"  \", \" \").title()\n",
    "    return nome_formatado\n",
    "\n",
    "def verificar_nome(nome):\n",
    "    nome_verificado = nome.replace(\" \", \"\")\n",
    "    if nome_verificado.isalpha():\n",
    "        return True\n",
    "    else:\n",
    "        return False\n",
    "\n",
    "while True:\n",
    "    nome = input('Insira o seu nome: ')\n",
    "    nome = formatar_nome(nome)\n",
    "    validar_nome = verificar_nome(nome)\n",
    "    if validar_nome:\n",
    "        print(f'Nome cadastrados com sucesso: {nome}.')\n",
    "        break\n",
    "    else:\n",
    "        print('Nome inválido. Por favor digite seu nome novamente.')\n",
    "        continue\n",
    "\n",
    "while True:\n",
    "    email = input('Insira o seu e-mail: ')\n",
    "    email = formatar_email(email)\n",
    "    validar_email = verificar_email(email)\n",
    "    if validar_email:\n",
    "        print(f'E-mail cadastrado com sucesso: {email}')\n",
    "        break\n",
    "    else:\n",
    "        print('E-mail inválido. Por favor digite seu e-mail novamente.')\n",
    "        continue"
   ]
  }
 ],
 "metadata": {
  "kernelspec": {
   "display_name": "base",
   "language": "python",
   "name": "python3"
  },
  "language_info": {
   "codemirror_mode": {
    "name": "ipython",
    "version": 3
   },
   "file_extension": ".py",
   "mimetype": "text/x-python",
   "name": "python",
   "nbconvert_exporter": "python",
   "pygments_lexer": "ipython3",
   "version": "3.9.13"
  },
  "vscode": {
   "interpreter": {
    "hash": "33c7e5e507e1022926d1b4a15fdb7aaab85e830ea0dd4a3b1c82cb1362c9524a"
   }
  }
 },
 "nbformat": 4,
 "nbformat_minor": 4
}
